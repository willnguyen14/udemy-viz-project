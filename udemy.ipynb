{
 "cells": [
  {
   "cell_type": "markdown",
   "metadata": {},
   "source": [
    "# Analysis on Udemy Web Development Courses"
   ]
  },
  {
   "cell_type": "code",
   "execution_count": 1,
   "metadata": {},
   "outputs": [
    {
     "data": {
      "text/html": [
       "<div>\n",
       "<style scoped>\n",
       "    .dataframe tbody tr th:only-of-type {\n",
       "        vertical-align: middle;\n",
       "    }\n",
       "\n",
       "    .dataframe tbody tr th {\n",
       "        vertical-align: top;\n",
       "    }\n",
       "\n",
       "    .dataframe thead th {\n",
       "        text-align: right;\n",
       "    }\n",
       "</style>\n",
       "<table border=\"1\" class=\"dataframe\">\n",
       "  <thead>\n",
       "    <tr style=\"text-align: right;\">\n",
       "      <th></th>\n",
       "      <th>id</th>\n",
       "      <th>title</th>\n",
       "      <th>url</th>\n",
       "      <th>isPaid</th>\n",
       "      <th>price</th>\n",
       "      <th>numSubscribers</th>\n",
       "      <th>numReviews</th>\n",
       "      <th>numPublishedLectures</th>\n",
       "      <th>instructionalLevel</th>\n",
       "      <th>contentInfo</th>\n",
       "      <th>publishedTime</th>\n",
       "      <th>Unnamed: 11</th>\n",
       "      <th>Unnamed: 12</th>\n",
       "      <th>Is Paid</th>\n",
       "      <th>Total</th>\n",
       "      <th>Percent</th>\n",
       "    </tr>\n",
       "  </thead>\n",
       "  <tbody>\n",
       "    <tr>\n",
       "      <th>0</th>\n",
       "      <td>28295</td>\n",
       "      <td>Learn Web Designing &amp; HTML5/CSS3 Essentials in...</td>\n",
       "      <td>https://www.udemy.com/build-beautiful-html5-we...</td>\n",
       "      <td>True</td>\n",
       "      <td>75</td>\n",
       "      <td>43285</td>\n",
       "      <td>525</td>\n",
       "      <td>24</td>\n",
       "      <td>All Levels</td>\n",
       "      <td>4 hours</td>\n",
       "      <td>2013-01-03T00:55:31Z</td>\n",
       "      <td>NaN</td>\n",
       "      <td>NaN</td>\n",
       "      <td>Yes</td>\n",
       "      <td>1067.0</td>\n",
       "      <td>89%</td>\n",
       "    </tr>\n",
       "    <tr>\n",
       "      <th>1</th>\n",
       "      <td>19603</td>\n",
       "      <td>Learning Dynamic Website Design - PHP MySQL an...</td>\n",
       "      <td>https://www.udemy.com/learning-dynamic-website...</td>\n",
       "      <td>True</td>\n",
       "      <td>50</td>\n",
       "      <td>47886</td>\n",
       "      <td>285</td>\n",
       "      <td>125</td>\n",
       "      <td>All Levels</td>\n",
       "      <td>12.5 hours</td>\n",
       "      <td>2012-06-18T16:52:34Z</td>\n",
       "      <td>NaN</td>\n",
       "      <td>NaN</td>\n",
       "      <td>No</td>\n",
       "      <td>133.0</td>\n",
       "      <td>11%</td>\n",
       "    </tr>\n",
       "    <tr>\n",
       "      <th>2</th>\n",
       "      <td>889438</td>\n",
       "      <td>ChatBots: Messenger ChatBot with API.AI and No...</td>\n",
       "      <td>https://www.udemy.com/chatbots/</td>\n",
       "      <td>True</td>\n",
       "      <td>50</td>\n",
       "      <td>2577</td>\n",
       "      <td>529</td>\n",
       "      <td>64</td>\n",
       "      <td>All Levels</td>\n",
       "      <td>4.5 hours</td>\n",
       "      <td>2016-06-30T16:57:08Z</td>\n",
       "      <td>NaN</td>\n",
       "      <td>NaN</td>\n",
       "      <td>NaN</td>\n",
       "      <td>NaN</td>\n",
       "      <td>NaN</td>\n",
       "    </tr>\n",
       "    <tr>\n",
       "      <th>3</th>\n",
       "      <td>197836</td>\n",
       "      <td>Projects in HTML5</td>\n",
       "      <td>https://www.udemy.com/projects-in-html5/</td>\n",
       "      <td>True</td>\n",
       "      <td>60</td>\n",
       "      <td>8777</td>\n",
       "      <td>206</td>\n",
       "      <td>75</td>\n",
       "      <td>Intermediate Level</td>\n",
       "      <td>15.5 hours</td>\n",
       "      <td>2014-06-17T05:43:50Z</td>\n",
       "      <td>NaN</td>\n",
       "      <td>NaN</td>\n",
       "      <td>NaN</td>\n",
       "      <td>NaN</td>\n",
       "      <td>NaN</td>\n",
       "    </tr>\n",
       "    <tr>\n",
       "      <th>4</th>\n",
       "      <td>505208</td>\n",
       "      <td>Programming Foundations: HTML5 + CSS3 for Entr...</td>\n",
       "      <td>https://www.udemy.com/html-css-more/</td>\n",
       "      <td>True</td>\n",
       "      <td>20</td>\n",
       "      <td>23764</td>\n",
       "      <td>490</td>\n",
       "      <td>58</td>\n",
       "      <td>Beginner Level</td>\n",
       "      <td>5.5 hours</td>\n",
       "      <td>2015-10-17T04:52:25Z</td>\n",
       "      <td>NaN</td>\n",
       "      <td>NaN</td>\n",
       "      <td>NaN</td>\n",
       "      <td>NaN</td>\n",
       "      <td>NaN</td>\n",
       "    </tr>\n",
       "  </tbody>\n",
       "</table>\n",
       "</div>"
      ],
      "text/plain": [
       "       id                                              title  \\\n",
       "0   28295  Learn Web Designing & HTML5/CSS3 Essentials in...   \n",
       "1   19603  Learning Dynamic Website Design - PHP MySQL an...   \n",
       "2  889438  ChatBots: Messenger ChatBot with API.AI and No...   \n",
       "3  197836                                  Projects in HTML5   \n",
       "4  505208  Programming Foundations: HTML5 + CSS3 for Entr...   \n",
       "\n",
       "                                                 url  isPaid price  \\\n",
       "0  https://www.udemy.com/build-beautiful-html5-we...    True    75   \n",
       "1  https://www.udemy.com/learning-dynamic-website...    True    50   \n",
       "2                    https://www.udemy.com/chatbots/    True    50   \n",
       "3           https://www.udemy.com/projects-in-html5/    True    60   \n",
       "4               https://www.udemy.com/html-css-more/    True    20   \n",
       "\n",
       "   numSubscribers  numReviews  numPublishedLectures  instructionalLevel  \\\n",
       "0           43285         525                    24          All Levels   \n",
       "1           47886         285                   125          All Levels   \n",
       "2            2577         529                    64          All Levels   \n",
       "3            8777         206                    75  Intermediate Level   \n",
       "4           23764         490                    58      Beginner Level   \n",
       "\n",
       "  contentInfo         publishedTime  Unnamed: 11  Unnamed: 12 Is Paid   Total  \\\n",
       "0     4 hours  2013-01-03T00:55:31Z          NaN          NaN     Yes  1067.0   \n",
       "1  12.5 hours  2012-06-18T16:52:34Z          NaN          NaN      No   133.0   \n",
       "2   4.5 hours  2016-06-30T16:57:08Z          NaN          NaN     NaN     NaN   \n",
       "3  15.5 hours  2014-06-17T05:43:50Z          NaN          NaN     NaN     NaN   \n",
       "4   5.5 hours  2015-10-17T04:52:25Z          NaN          NaN     NaN     NaN   \n",
       "\n",
       "  Percent  \n",
       "0     89%  \n",
       "1     11%  \n",
       "2     NaN  \n",
       "3     NaN  \n",
       "4     NaN  "
      ]
     },
     "execution_count": 1,
     "metadata": {},
     "output_type": "execute_result"
    }
   ],
   "source": [
    "import pandas as pd\n",
    "web_dev = pd.read_csv(\"UdemyWebDevelopment.csv\")\n",
    "web_dev.head(5)"
   ]
  },
  {
   "cell_type": "markdown",
   "metadata": {},
   "source": [
    "# Why is dtype of \"price\" an object?\n",
    "\n",
    "First, we have found a handful of columns we won't need and does not add anything to the dataset. After checking the columns for any missing values and for the correct dypes, we have found that the `price` and `contentInfo` columns are of the `object` dtype."
   ]
  },
  {
   "cell_type": "code",
   "execution_count": 2,
   "metadata": {},
   "outputs": [
    {
     "name": "stdout",
     "output_type": "stream",
     "text": [
      "<class 'pandas.core.frame.DataFrame'>\n",
      "RangeIndex: 1200 entries, 0 to 1199\n",
      "Data columns (total 11 columns):\n",
      " #   Column                Non-Null Count  Dtype \n",
      "---  ------                --------------  ----- \n",
      " 0   id                    1200 non-null   int64 \n",
      " 1   title                 1200 non-null   object\n",
      " 2   url                   1200 non-null   object\n",
      " 3   isPaid                1200 non-null   bool  \n",
      " 4   price                 1200 non-null   object\n",
      " 5   numSubscribers        1200 non-null   int64 \n",
      " 6   numReviews            1200 non-null   int64 \n",
      " 7   numPublishedLectures  1200 non-null   int64 \n",
      " 8   instructionalLevel    1200 non-null   object\n",
      " 9   contentInfo           1200 non-null   object\n",
      " 10  publishedTime         1200 non-null   object\n",
      "dtypes: bool(1), int64(4), object(6)\n",
      "memory usage: 95.0+ KB\n",
      "(1200, 11)\n"
     ]
    }
   ],
   "source": [
    "web_dev = web_dev.drop([\"Unnamed: 11\",\"Unnamed: 12\",\"Is Paid\",\"Total\",\"Percent\"], axis=1)\n",
    "web_dev.info()\n",
    "print(web_dev.shape)"
   ]
  },
  {
   "cell_type": "markdown",
   "metadata": {},
   "source": [
    "After checking what's happening with the `price` column, we can see that one of the values is `Free`. We want this column to have a dtype of `int` so that we can potentially perform calculations on this column by simply replacing `Free` with `0`."
   ]
  },
  {
   "cell_type": "code",
   "execution_count": 3,
   "metadata": {},
   "outputs": [
    {
     "data": {
      "text/plain": [
       "20      187\n",
       "Free    133\n",
       "50      121\n",
       "200     113\n",
       "195      72\n",
       "Name: price, dtype: int64"
      ]
     },
     "execution_count": 3,
     "metadata": {},
     "output_type": "execute_result"
    }
   ],
   "source": [
    "web_dev.price.value_counts().head()"
   ]
  },
  {
   "cell_type": "code",
   "execution_count": 4,
   "metadata": {},
   "outputs": [
    {
     "data": {
      "text/plain": [
       "20     187\n",
       "0      133\n",
       "50     121\n",
       "200    113\n",
       "195     72\n",
       "Name: price, dtype: int64"
      ]
     },
     "execution_count": 4,
     "metadata": {},
     "output_type": "execute_result"
    }
   ],
   "source": [
    "web_dev.price.replace(\"Free\", 0, inplace=True)\n",
    "web_dev.price = web_dev.price.astype(int)\n",
    "web_dev.price.value_counts().head(5)"
   ]
  },
  {
   "cell_type": "code",
   "execution_count": 5,
   "metadata": {},
   "outputs": [
    {
     "data": {
      "text/plain": [
       "All Levels            659\n",
       "Beginner Level        391\n",
       "Intermediate Level    135\n",
       "Expert Level           15\n",
       "Name: instructionalLevel, dtype: int64"
      ]
     },
     "execution_count": 5,
     "metadata": {},
     "output_type": "execute_result"
    }
   ],
   "source": [
    "web_dev.instructionalLevel.value_counts()"
   ]
  },
  {
   "cell_type": "markdown",
   "metadata": {},
   "source": [
    "# Cleaning The `contentInfo` Column\n",
    "We want this column to be dtype `float` and we can't perform any calculations if there is a substring attached for the unit. We'll change the column name to `contentInfo_hours` and then see what we are dealing with. The interesting thing is that there are some values expressed in minutes instead of hours. We need to first convert the values that are in minutes to be expressed in hours instead so that we don't get confused with `34 mins` for `34 hours` when we remove all of the unit substrings. However, the exact number of minutes a course has is redundant for the analysis, so we will express any course shorter than 1 hour as `0` hours"
   ]
  },
  {
   "cell_type": "code",
   "execution_count": 6,
   "metadata": {},
   "outputs": [
    {
     "data": {
      "text/plain": [
       "1 hour        136\n",
       "1.5 hours     124\n",
       "2 hours       123\n",
       "3 hours        82\n",
       "3.5 hours      74\n",
       "2.5 hours      71\n",
       "4 hours        56\n",
       "5 hours        41\n",
       "4.5 hours      38\n",
       "5.5 hours      34\n",
       "6.5 hours      30\n",
       "6 hours        26\n",
       "7 hours        25\n",
       "7.5 hours      20\n",
       "8 hours        18\n",
       "9 hours        18\n",
       "8.5 hours      13\n",
       "13 hours       11\n",
       "12.5 hours     11\n",
       "11 hours       11\n",
       "10 hours       10\n",
       "10.5 hours     10\n",
       "37 mins         9\n",
       "12 hours        9\n",
       "34 mins         9\n",
       "Name: contentInfo_hours, dtype: int64"
      ]
     },
     "execution_count": 6,
     "metadata": {},
     "output_type": "execute_result"
    }
   ],
   "source": [
    "web_dev = web_dev.rename(columns = {web_dev.columns[9]: \"contentInfo_hours\"})\n",
    "\n",
    "pd.set_option(\"display.max_rows\", None)\n",
    "web_dev[\"contentInfo_hours\"].value_counts().head(25)"
   ]
  },
  {
   "cell_type": "markdown",
   "metadata": {},
   "source": [
    "Every class that is under one hour will be denoted as 0 (hours), as a few minutes difference in the length of the classes under and hour will not be significant to the analysis\n",
    "\n",
    "After renaming the column, we'll first remove any row values with \" mins\". Since we know that only the row values that are floats instead of string objects are minutes, we'll isolate those row values to convert them to minutes. And then we can clean the rest of the row values because we know that those are hour values."
   ]
  },
  {
   "cell_type": "code",
   "execution_count": 7,
   "metadata": {},
   "outputs": [
    {
     "data": {
      "text/plain": [
       "1.0     136\n",
       "1.5     124\n",
       "2.0     123\n",
       "3.0      82\n",
       "0.0      76\n",
       "3.5      74\n",
       "2.5      71\n",
       "4.0      56\n",
       "5.0      41\n",
       "4.5      38\n",
       "5.5      34\n",
       "6.5      30\n",
       "6.0      26\n",
       "7.0      25\n",
       "7.5      20\n",
       "9.0      18\n",
       "8.0      18\n",
       "8.5      13\n",
       "11.0     11\n",
       "12.5     11\n",
       "13.0     11\n",
       "10.0     10\n",
       "10.5     10\n",
       "9.5       9\n",
       "12.0      9\n",
       "Name: contentInfo_hours, dtype: int64"
      ]
     },
     "execution_count": 7,
     "metadata": {},
     "output_type": "execute_result"
    }
   ],
   "source": [
    "web_dev[\"contentInfo_hours\"] = web_dev[\"contentInfo_hours\"].apply(lambda x: '0' if ' mins' in x else x)\n",
    "web_dev[\"contentInfo_hours\"] = web_dev[\"contentInfo_hours\"].replace(to_replace =[' hour$',' hours$'], value = \"\", regex = True)\n",
    "web_dev[\"contentInfo_hours\"] = web_dev[\"contentInfo_hours\"].astype(float)\n",
    "web_dev[\"contentInfo_hours\"].value_counts().head(25)"
   ]
  },
  {
   "cell_type": "code",
   "execution_count": 8,
   "metadata": {},
   "outputs": [
    {
     "name": "stdout",
     "output_type": "stream",
     "text": [
      "<class 'pandas.core.frame.DataFrame'>\n",
      "RangeIndex: 1200 entries, 0 to 1199\n",
      "Data columns (total 11 columns):\n",
      " #   Column                Non-Null Count  Dtype  \n",
      "---  ------                --------------  -----  \n",
      " 0   id                    1200 non-null   int64  \n",
      " 1   title                 1200 non-null   object \n",
      " 2   url                   1200 non-null   object \n",
      " 3   isPaid                1200 non-null   bool   \n",
      " 4   price                 1200 non-null   int32  \n",
      " 5   numSubscribers        1200 non-null   int64  \n",
      " 6   numReviews            1200 non-null   int64  \n",
      " 7   numPublishedLectures  1200 non-null   int64  \n",
      " 8   instructionalLevel    1200 non-null   object \n",
      " 9   contentInfo_hours     1200 non-null   float64\n",
      " 10  publishedTime         1200 non-null   object \n",
      "dtypes: bool(1), float64(1), int32(1), int64(4), object(4)\n",
      "memory usage: 90.4+ KB\n"
     ]
    }
   ],
   "source": [
    "# one final check for cleaning\n",
    "web_dev.info()"
   ]
  },
  {
   "cell_type": "markdown",
   "metadata": {},
   "source": [
    "# Statistics and Visualization\n",
    "Now that cleaning is completed, we will do some basic descriptive statistics to explore what kind of relationship the columns have with each other."
   ]
  },
  {
   "cell_type": "code",
   "execution_count": 9,
   "metadata": {},
   "outputs": [
    {
     "data": {
      "text/html": [
       "<div>\n",
       "<style scoped>\n",
       "    .dataframe tbody tr th:only-of-type {\n",
       "        vertical-align: middle;\n",
       "    }\n",
       "\n",
       "    .dataframe tbody tr th {\n",
       "        vertical-align: top;\n",
       "    }\n",
       "\n",
       "    .dataframe thead th {\n",
       "        text-align: right;\n",
       "    }\n",
       "</style>\n",
       "<table border=\"1\" class=\"dataframe\">\n",
       "  <thead>\n",
       "    <tr style=\"text-align: right;\">\n",
       "      <th></th>\n",
       "      <th>id</th>\n",
       "      <th>price</th>\n",
       "      <th>numSubscribers</th>\n",
       "      <th>numReviews</th>\n",
       "      <th>numPublishedLectures</th>\n",
       "      <th>contentInfo_hours</th>\n",
       "    </tr>\n",
       "  </thead>\n",
       "  <tbody>\n",
       "    <tr>\n",
       "      <th>count</th>\n",
       "      <td>1200.00</td>\n",
       "      <td>1200.00</td>\n",
       "      <td>1200.00</td>\n",
       "      <td>1200.00</td>\n",
       "      <td>1200.00</td>\n",
       "      <td>1200.00</td>\n",
       "    </tr>\n",
       "    <tr>\n",
       "      <th>mean</th>\n",
       "      <td>706854.25</td>\n",
       "      <td>77.03</td>\n",
       "      <td>6650.48</td>\n",
       "      <td>358.35</td>\n",
       "      <td>52.82</td>\n",
       "      <td>5.56</td>\n",
       "    </tr>\n",
       "    <tr>\n",
       "      <th>std</th>\n",
       "      <td>328924.40</td>\n",
       "      <td>66.08</td>\n",
       "      <td>14613.65</td>\n",
       "      <td>1574.81</td>\n",
       "      <td>62.81</td>\n",
       "      <td>7.28</td>\n",
       "    </tr>\n",
       "    <tr>\n",
       "      <th>min</th>\n",
       "      <td>8324.00</td>\n",
       "      <td>0.00</td>\n",
       "      <td>19.00</td>\n",
       "      <td>0.00</td>\n",
       "      <td>5.00</td>\n",
       "      <td>0.00</td>\n",
       "    </tr>\n",
       "    <tr>\n",
       "      <th>25%</th>\n",
       "      <td>475711.50</td>\n",
       "      <td>20.00</td>\n",
       "      <td>1127.50</td>\n",
       "      <td>25.00</td>\n",
       "      <td>19.00</td>\n",
       "      <td>1.50</td>\n",
       "    </tr>\n",
       "    <tr>\n",
       "      <th>50%</th>\n",
       "      <td>738456.00</td>\n",
       "      <td>50.00</td>\n",
       "      <td>2416.50</td>\n",
       "      <td>65.00</td>\n",
       "      <td>32.00</td>\n",
       "      <td>3.00</td>\n",
       "    </tr>\n",
       "    <tr>\n",
       "      <th>75%</th>\n",
       "      <td>975271.50</td>\n",
       "      <td>115.00</td>\n",
       "      <td>6894.75</td>\n",
       "      <td>179.25</td>\n",
       "      <td>63.25</td>\n",
       "      <td>6.50</td>\n",
       "    </tr>\n",
       "    <tr>\n",
       "      <th>max</th>\n",
       "      <td>1277924.00</td>\n",
       "      <td>200.00</td>\n",
       "      <td>268923.00</td>\n",
       "      <td>27445.00</td>\n",
       "      <td>779.00</td>\n",
       "      <td>76.50</td>\n",
       "    </tr>\n",
       "  </tbody>\n",
       "</table>\n",
       "</div>"
      ],
      "text/plain": [
       "               id    price  numSubscribers  numReviews  numPublishedLectures  \\\n",
       "count     1200.00  1200.00         1200.00     1200.00               1200.00   \n",
       "mean    706854.25    77.03         6650.48      358.35                 52.82   \n",
       "std     328924.40    66.08        14613.65     1574.81                 62.81   \n",
       "min       8324.00     0.00           19.00        0.00                  5.00   \n",
       "25%     475711.50    20.00         1127.50       25.00                 19.00   \n",
       "50%     738456.00    50.00         2416.50       65.00                 32.00   \n",
       "75%     975271.50   115.00         6894.75      179.25                 63.25   \n",
       "max    1277924.00   200.00       268923.00    27445.00                779.00   \n",
       "\n",
       "       contentInfo_hours  \n",
       "count            1200.00  \n",
       "mean                5.56  \n",
       "std                 7.28  \n",
       "min                 0.00  \n",
       "25%                 1.50  \n",
       "50%                 3.00  \n",
       "75%                 6.50  \n",
       "max                76.50  "
      ]
     },
     "execution_count": 9,
     "metadata": {},
     "output_type": "execute_result"
    }
   ],
   "source": [
    "web_dev.describe().round(2)"
   ]
  },
  {
   "cell_type": "markdown",
   "metadata": {},
   "source": [
    "Below, we observe the correlation coefficients between all of the columns and we have found no notable correlation between columns when comparing correlation coefficients. The `numPublishedLectures` and `contentInfo_hours` columns have a correlation coefficient of `0.86`, but that doesn't mean much to us because you're obviously going to have more hours in your course if you publish more lectures."
   ]
  },
  {
   "cell_type": "code",
   "execution_count": 10,
   "metadata": {},
   "outputs": [
    {
     "data": {
      "text/html": [
       "<div>\n",
       "<style scoped>\n",
       "    .dataframe tbody tr th:only-of-type {\n",
       "        vertical-align: middle;\n",
       "    }\n",
       "\n",
       "    .dataframe tbody tr th {\n",
       "        vertical-align: top;\n",
       "    }\n",
       "\n",
       "    .dataframe thead th {\n",
       "        text-align: right;\n",
       "    }\n",
       "</style>\n",
       "<table border=\"1\" class=\"dataframe\">\n",
       "  <thead>\n",
       "    <tr style=\"text-align: right;\">\n",
       "      <th></th>\n",
       "      <th>id</th>\n",
       "      <th>isPaid</th>\n",
       "      <th>price</th>\n",
       "      <th>numSubscribers</th>\n",
       "      <th>numReviews</th>\n",
       "      <th>numPublishedLectures</th>\n",
       "      <th>contentInfo_hours</th>\n",
       "    </tr>\n",
       "  </thead>\n",
       "  <tbody>\n",
       "    <tr>\n",
       "      <th>id</th>\n",
       "      <td>1.00</td>\n",
       "      <td>0.04</td>\n",
       "      <td>0.13</td>\n",
       "      <td>-0.26</td>\n",
       "      <td>-0.09</td>\n",
       "      <td>-0.03</td>\n",
       "      <td>-0.05</td>\n",
       "    </tr>\n",
       "    <tr>\n",
       "      <th>isPaid</th>\n",
       "      <td>0.04</td>\n",
       "      <td>1.00</td>\n",
       "      <td>0.41</td>\n",
       "      <td>-0.27</td>\n",
       "      <td>-0.07</td>\n",
       "      <td>0.16</td>\n",
       "      <td>0.15</td>\n",
       "    </tr>\n",
       "    <tr>\n",
       "      <th>price</th>\n",
       "      <td>0.13</td>\n",
       "      <td>0.41</td>\n",
       "      <td>1.00</td>\n",
       "      <td>0.01</td>\n",
       "      <td>0.13</td>\n",
       "      <td>0.39</td>\n",
       "      <td>0.38</td>\n",
       "    </tr>\n",
       "    <tr>\n",
       "      <th>numSubscribers</th>\n",
       "      <td>-0.26</td>\n",
       "      <td>-0.27</td>\n",
       "      <td>0.01</td>\n",
       "      <td>1.00</td>\n",
       "      <td>0.64</td>\n",
       "      <td>0.13</td>\n",
       "      <td>0.15</td>\n",
       "    </tr>\n",
       "    <tr>\n",
       "      <th>numReviews</th>\n",
       "      <td>-0.09</td>\n",
       "      <td>-0.07</td>\n",
       "      <td>0.13</td>\n",
       "      <td>0.64</td>\n",
       "      <td>1.00</td>\n",
       "      <td>0.27</td>\n",
       "      <td>0.27</td>\n",
       "    </tr>\n",
       "    <tr>\n",
       "      <th>numPublishedLectures</th>\n",
       "      <td>-0.03</td>\n",
       "      <td>0.16</td>\n",
       "      <td>0.39</td>\n",
       "      <td>0.13</td>\n",
       "      <td>0.27</td>\n",
       "      <td>1.00</td>\n",
       "      <td>0.86</td>\n",
       "    </tr>\n",
       "    <tr>\n",
       "      <th>contentInfo_hours</th>\n",
       "      <td>-0.05</td>\n",
       "      <td>0.15</td>\n",
       "      <td>0.38</td>\n",
       "      <td>0.15</td>\n",
       "      <td>0.27</td>\n",
       "      <td>0.86</td>\n",
       "      <td>1.00</td>\n",
       "    </tr>\n",
       "  </tbody>\n",
       "</table>\n",
       "</div>"
      ],
      "text/plain": [
       "                        id  isPaid  price  numSubscribers  numReviews  \\\n",
       "id                    1.00    0.04   0.13           -0.26       -0.09   \n",
       "isPaid                0.04    1.00   0.41           -0.27       -0.07   \n",
       "price                 0.13    0.41   1.00            0.01        0.13   \n",
       "numSubscribers       -0.26   -0.27   0.01            1.00        0.64   \n",
       "numReviews           -0.09   -0.07   0.13            0.64        1.00   \n",
       "numPublishedLectures -0.03    0.16   0.39            0.13        0.27   \n",
       "contentInfo_hours    -0.05    0.15   0.38            0.15        0.27   \n",
       "\n",
       "                      numPublishedLectures  contentInfo_hours  \n",
       "id                                   -0.03              -0.05  \n",
       "isPaid                                0.16               0.15  \n",
       "price                                 0.39               0.38  \n",
       "numSubscribers                        0.13               0.15  \n",
       "numReviews                            0.27               0.27  \n",
       "numPublishedLectures                  1.00               0.86  \n",
       "contentInfo_hours                     0.86               1.00  "
      ]
     },
     "execution_count": 10,
     "metadata": {},
     "output_type": "execute_result"
    }
   ],
   "source": [
    "web_dev.corr(method='pearson').round(2)"
   ]
  },
  {
   "cell_type": "markdown",
   "metadata": {},
   "source": [
    "# Regression Analysis of `contentInfo_hours` and `price`\n",
    "We would think that we can make assumptions that the amount of hours a course has would give us a rough indicator of how it would be priced."
   ]
  },
  {
   "cell_type": "code",
   "execution_count": 13,
   "metadata": {},
   "outputs": [
    {
     "data": {
      "text/html": [
       "<div>\n",
       "<style scoped>\n",
       "    .dataframe tbody tr th:only-of-type {\n",
       "        vertical-align: middle;\n",
       "    }\n",
       "\n",
       "    .dataframe tbody tr th {\n",
       "        vertical-align: top;\n",
       "    }\n",
       "\n",
       "    .dataframe thead th {\n",
       "        text-align: right;\n",
       "    }\n",
       "</style>\n",
       "<table border=\"1\" class=\"dataframe\">\n",
       "  <thead>\n",
       "    <tr style=\"text-align: right;\">\n",
       "      <th></th>\n",
       "      <th>price</th>\n",
       "      <th>contentInfo_hours</th>\n",
       "    </tr>\n",
       "  </thead>\n",
       "  <tbody>\n",
       "    <tr>\n",
       "      <th>count</th>\n",
       "      <td>1200.00</td>\n",
       "      <td>1200.00</td>\n",
       "    </tr>\n",
       "    <tr>\n",
       "      <th>mean</th>\n",
       "      <td>77.03</td>\n",
       "      <td>5.56</td>\n",
       "    </tr>\n",
       "    <tr>\n",
       "      <th>std</th>\n",
       "      <td>66.08</td>\n",
       "      <td>7.28</td>\n",
       "    </tr>\n",
       "    <tr>\n",
       "      <th>min</th>\n",
       "      <td>0.00</td>\n",
       "      <td>0.00</td>\n",
       "    </tr>\n",
       "    <tr>\n",
       "      <th>25%</th>\n",
       "      <td>20.00</td>\n",
       "      <td>1.50</td>\n",
       "    </tr>\n",
       "    <tr>\n",
       "      <th>50%</th>\n",
       "      <td>50.00</td>\n",
       "      <td>3.00</td>\n",
       "    </tr>\n",
       "    <tr>\n",
       "      <th>75%</th>\n",
       "      <td>115.00</td>\n",
       "      <td>6.50</td>\n",
       "    </tr>\n",
       "    <tr>\n",
       "      <th>max</th>\n",
       "      <td>200.00</td>\n",
       "      <td>76.50</td>\n",
       "    </tr>\n",
       "  </tbody>\n",
       "</table>\n",
       "</div>"
      ],
      "text/plain": [
       "         price  contentInfo_hours\n",
       "count  1200.00            1200.00\n",
       "mean     77.03               5.56\n",
       "std      66.08               7.28\n",
       "min       0.00               0.00\n",
       "25%      20.00               1.50\n",
       "50%      50.00               3.00\n",
       "75%     115.00               6.50\n",
       "max     200.00              76.50"
      ]
     },
     "execution_count": 13,
     "metadata": {},
     "output_type": "execute_result"
    }
   ],
   "source": [
    "import statsmodels.api as sm\n",
    "regdata = web_dev[[\"price\",\"contentInfo_hours\"]]\n",
    "regdata.describe().round(2)"
   ]
  },
  {
   "cell_type": "code",
   "execution_count": 14,
   "metadata": {},
   "outputs": [
    {
     "data": {
      "text/html": [
       "<table class=\"simpletable\">\n",
       "<caption>OLS Regression Results</caption>\n",
       "<tr>\n",
       "  <th>Dep. Variable:</th>          <td>price</td>      <th>  R-squared:         </th> <td>   0.143</td> \n",
       "</tr>\n",
       "<tr>\n",
       "  <th>Model:</th>                   <td>OLS</td>       <th>  Adj. R-squared:    </th> <td>   0.143</td> \n",
       "</tr>\n",
       "<tr>\n",
       "  <th>Method:</th>             <td>Least Squares</td>  <th>  F-statistic:       </th> <td>   200.3</td> \n",
       "</tr>\n",
       "<tr>\n",
       "  <th>Date:</th>             <td>Thu, 16 Sep 2021</td> <th>  Prob (F-statistic):</th> <td>3.62e-42</td> \n",
       "</tr>\n",
       "<tr>\n",
       "  <th>Time:</th>                 <td>15:33:29</td>     <th>  Log-Likelihood:    </th> <td> -6638.5</td> \n",
       "</tr>\n",
       "<tr>\n",
       "  <th>No. Observations:</th>      <td>  1200</td>      <th>  AIC:               </th> <td>1.328e+04</td>\n",
       "</tr>\n",
       "<tr>\n",
       "  <th>Df Residuals:</th>          <td>  1198</td>      <th>  BIC:               </th> <td>1.329e+04</td>\n",
       "</tr>\n",
       "<tr>\n",
       "  <th>Df Model:</th>              <td>     1</td>      <th>                     </th>     <td> </td>    \n",
       "</tr>\n",
       "<tr>\n",
       "  <th>Covariance Type:</th>      <td>nonrobust</td>    <th>                     </th>     <td> </td>    \n",
       "</tr>\n",
       "</table>\n",
       "<table class=\"simpletable\">\n",
       "<tr>\n",
       "          <td></td>             <th>coef</th>     <th>std err</th>      <th>t</th>      <th>P>|t|</th>  <th>[0.025</th>    <th>0.975]</th>  \n",
       "</tr>\n",
       "<tr>\n",
       "  <th>const</th>             <td>   57.9377</td> <td>    2.223</td> <td>   26.066</td> <td> 0.000</td> <td>   53.577</td> <td>   62.299</td>\n",
       "</tr>\n",
       "<tr>\n",
       "  <th>contentInfo_hours</th> <td>    3.4368</td> <td>    0.243</td> <td>   14.154</td> <td> 0.000</td> <td>    2.960</td> <td>    3.913</td>\n",
       "</tr>\n",
       "</table>\n",
       "<table class=\"simpletable\">\n",
       "<tr>\n",
       "  <th>Omnibus:</th>       <td>96.132</td> <th>  Durbin-Watson:     </th> <td>   1.770</td>\n",
       "</tr>\n",
       "<tr>\n",
       "  <th>Prob(Omnibus):</th> <td> 0.000</td> <th>  Jarque-Bera (JB):  </th> <td> 117.606</td>\n",
       "</tr>\n",
       "<tr>\n",
       "  <th>Skew:</th>          <td> 0.759</td> <th>  Prob(JB):          </th> <td>2.90e-26</td>\n",
       "</tr>\n",
       "<tr>\n",
       "  <th>Kurtosis:</th>      <td> 2.784</td> <th>  Cond. No.          </th> <td>    11.6</td>\n",
       "</tr>\n",
       "</table><br/><br/>Notes:<br/>[1] Standard Errors assume that the covariance matrix of the errors is correctly specified."
      ],
      "text/plain": [
       "<class 'statsmodels.iolib.summary.Summary'>\n",
       "\"\"\"\n",
       "                            OLS Regression Results                            \n",
       "==============================================================================\n",
       "Dep. Variable:                  price   R-squared:                       0.143\n",
       "Model:                            OLS   Adj. R-squared:                  0.143\n",
       "Method:                 Least Squares   F-statistic:                     200.3\n",
       "Date:                Thu, 16 Sep 2021   Prob (F-statistic):           3.62e-42\n",
       "Time:                        15:33:29   Log-Likelihood:                -6638.5\n",
       "No. Observations:                1200   AIC:                         1.328e+04\n",
       "Df Residuals:                    1198   BIC:                         1.329e+04\n",
       "Df Model:                           1                                         \n",
       "Covariance Type:            nonrobust                                         \n",
       "=====================================================================================\n",
       "                        coef    std err          t      P>|t|      [0.025      0.975]\n",
       "-------------------------------------------------------------------------------------\n",
       "const                57.9377      2.223     26.066      0.000      53.577      62.299\n",
       "contentInfo_hours     3.4368      0.243     14.154      0.000       2.960       3.913\n",
       "==============================================================================\n",
       "Omnibus:                       96.132   Durbin-Watson:                   1.770\n",
       "Prob(Omnibus):                  0.000   Jarque-Bera (JB):              117.606\n",
       "Skew:                           0.759   Prob(JB):                     2.90e-26\n",
       "Kurtosis:                       2.784   Cond. No.                         11.6\n",
       "==============================================================================\n",
       "\n",
       "Notes:\n",
       "[1] Standard Errors assume that the covariance matrix of the errors is correctly specified.\n",
       "\"\"\""
      ]
     },
     "execution_count": 14,
     "metadata": {},
     "output_type": "execute_result"
    }
   ],
   "source": [
    "# creating a linear regression which predicts price based on course length in hours\n",
    "y = regdata[\"price\"]\n",
    "x1 = regdata[\"contentInfo_hours\"]\n",
    "\n",
    "x = sm.add_constant(x1)\n",
    "results = sm.OLS(y,x).fit()\n",
    "results.summary()"
   ]
  },
  {
   "cell_type": "code",
   "execution_count": 87,
   "metadata": {},
   "outputs": [
    {
     "data": {
      "image/png": "[encoded data removed]",
      "text/plain": [
       "<Figure size 1080x864 with 1 Axes>"
      ]
     },
     "metadata": {},
     "output_type": "display_data"
    }
   ],
   "source": [
    "import seaborn as sns\n",
    "import matplotlib.pyplot as plt\n",
    "%matplotlib inline\n",
    "\n",
    "# can try to color code only courses ranging from 0-20 hours\n",
    "\n",
    "sns.set_style(\"whitegrid\")\n",
    "plt.figure(figsize=(15,12))\n",
    "plt.scatter(x1,y)\n",
    "yhat = 3.4368*x1 + 57.9377\n",
    "plt.plot(x1,yhat,lw=3,c='orange',label='regression line')\n",
    "plt.axvline(x=20,dashes=(5, 2, 1, 2))\n",
    "plt.xlabel(\"Hours\",fontsize=30,loc='left')\n",
    "plt.ylabel(\"Price\",fontsize=30,loc='top')\n",
    "plt.title(\"Regression on Price and Hours\",loc=\"left\",fontsize=40,fontweight=20)\n",
    "sns.despine(left=True,bottom=True)"
   ]
  },
  {
   "cell_type": "markdown",
   "metadata": {},
   "source": [
    "After conducting a regression analysis between `contentInfo_hours` and `price`, we see that there is hardly such a relationship. A course that ranges between a length of under 1 hour to 20 hours of lectures can be priced anywhere from free to the max price: \\\\$200. There are also courses that are under 20 hours can be set at any price point. Some courses that are under 1 hour long can cost over $100! This can be explained that placing large discounts on such high prices can tempt more people to become subscribers, thinking they have snatched a great deal. Discounts can go up to -80% off or free for many days at a time. \n",
    "\n",
    "However, when a course has more than 20 hours of lecture, there is some positive trend of a course bring priced more expensive the more hours it has. There is too much variance between all of the plotted points to the regression line to be able to make confidant predictions on the price of a course given the number of hours of lecture it has. This disproves the initial assumption of being about to determine the price of a course by the number of hours it has."
   ]
  },
  {
   "cell_type": "markdown",
   "metadata": {},
   "source": [
    "# 20% of courses account for 80% of subscribers?\n",
    "After doing a quick boxplot visualization on the numSubscribers column because it's a good business metric to measure performance for each course, we can see many outliers and I want to see what's going on."
   ]
  },
  {
   "cell_type": "code",
   "execution_count": 48,
   "metadata": {},
   "outputs": [
    {
     "data": {
      "text/plain": [
       "{'whiskers': [<matplotlib.lines.Line2D at 0x128db1fb430>,\n",
       "  <matplotlib.lines.Line2D at 0x128db1fb790>],\n",
       " 'caps': [<matplotlib.lines.Line2D at 0x128db1fbaf0>,\n",
       "  <matplotlib.lines.Line2D at 0x128db1fbe50>],\n",
       " 'boxes': [<matplotlib.lines.Line2D at 0x128db1fb0d0>],\n",
       " 'medians': [<matplotlib.lines.Line2D at 0x128db2071f0>],\n",
       " 'fliers': [<matplotlib.lines.Line2D at 0x128db207550>],\n",
       " 'means': []}"
      ]
     },
     "execution_count": 48,
     "metadata": {},
     "output_type": "execute_result"
    },
    {
     "data": {
      "image/png": "[encoded data removed]",
      "text/plain": [
       "<Figure size 1080x1080 with 1 Axes>"
      ]
     },
     "metadata": {},
     "output_type": "display_data"
    }
   ],
   "source": [
    "# numSubscribers is a good business metric to observe performance of courses\n",
    "# we see many outliers and lets find out what's going on\n",
    "plt.figure(figsize=(15,15))\n",
    "plt.boxplot(web_dev.numSubscribers)"
   ]
  },
  {
   "cell_type": "markdown",
   "metadata": {},
   "source": [
    "After changing perspectives by using a histogram instead of a boxplot, we can see extreme right skewedness; it levels out past the point where courses have more than 25,000 subscribers. This shows that the ratio between the number of courses having under 25,000 subscribers to the number of courses having over 25,000 subscribers is immensely disproportionate."
   ]
  },
  {
   "cell_type": "code",
   "execution_count": 88,
   "metadata": {},
   "outputs": [
    {
     "data": {
      "text/plain": [
       "<AxesSubplot:xlabel='numSubscribers', ylabel='Count'>"
      ]
     },
     "execution_count": 88,
     "metadata": {},
     "output_type": "execute_result"
    },
    {
     "data": {
      "image/png": "[encoded data removed]",
      "text/plain": [
       "<Figure size 1080x1080 with 1 Axes>"
      ]
     },
     "metadata": {},
     "output_type": "display_data"
    }
   ],
   "source": [
    "sns.set_style(\"whitegrid\")\n",
    "plt.figure(figsize=(15,15))\n",
    "df_sorted= web_dev.sort_values('numSubscribers',ascending=False)\n",
    "sns.histplot(df_sorted.numSubscribers)"
   ]
  },
  {
   "cell_type": "markdown",
   "metadata": {},
   "source": [
    "From the graph, we can estimate that the cutoff point for where the majority of courses lie is at 25,000 subscribers\n",
    "\n",
    "Findings from the calculations below:\n",
    "- 96% of all courses had less than 25,000 subscribers and accounted for 62% of all subscribers\n",
    "- 4% of all courses had more than 25,000 subscribers and accounted for 38% of all subscribers\n",
    "- only a small percentage of courses are doing most of the heavy lifting for Udemy while the majority of classes are scraping by\n",
    "\n",
    "Can help to find this:\n",
    "- what percentage of classes having less than 25,000 subscribers are free?\n",
    "- what percentage of classes having more than 25,000 subscribers are free?\n",
    "    - this could explain why so many people would want to choose these classes"
   ]
  },
  {
   "cell_type": "code",
   "execution_count": 17,
   "metadata": {},
   "outputs": [
    {
     "data": {
      "text/plain": [
       "95.6"
      ]
     },
     "execution_count": 17,
     "metadata": {},
     "output_type": "execute_result"
    }
   ],
   "source": [
    "# new dataframe for courses having under 25,000 subscribers\n",
    "under25k = web_dev[web_dev.numSubscribers < 25000]\n",
    "\n",
    "# percentage of number of courses that have under 25,000 subscribers\n",
    "per_under25k = round((under25k.shape[0] / web_dev.shape[0])*100, 1)\n",
    "per_under25k"
   ]
  },
  {
   "cell_type": "code",
   "execution_count": 18,
   "metadata": {},
   "outputs": [
    {
     "data": {
      "text/plain": [
       "4.4"
      ]
     },
     "execution_count": 18,
     "metadata": {},
     "output_type": "execute_result"
    }
   ],
   "source": [
    "# percent of total courses that have over 25,000 subscribers\n",
    "per_over25k = round(100 - per_under25k, 1)\n",
    "per_over25k"
   ]
  },
  {
   "cell_type": "code",
   "execution_count": 19,
   "metadata": {},
   "outputs": [
    {
     "data": {
      "text/plain": [
       "id                      1147\n",
       "title                   1147\n",
       "url                     1147\n",
       "isPaid                  1147\n",
       "price                   1147\n",
       "numSubscribers          1147\n",
       "numReviews              1147\n",
       "numPublishedLectures    1147\n",
       "instructionalLevel      1147\n",
       "contentInfo_hours       1147\n",
       "publishedTime           1147\n",
       "dtype: int64"
      ]
     },
     "execution_count": 19,
     "metadata": {},
     "output_type": "execute_result"
    }
   ],
   "source": [
    "under25k.count()"
   ]
  },
  {
   "cell_type": "code",
   "execution_count": 20,
   "metadata": {},
   "outputs": [
    {
     "data": {
      "text/plain": [
       "id                      1200\n",
       "title                   1200\n",
       "url                     1200\n",
       "isPaid                  1200\n",
       "price                   1200\n",
       "numSubscribers          1200\n",
       "numReviews              1200\n",
       "numPublishedLectures    1200\n",
       "instructionalLevel      1200\n",
       "contentInfo_hours       1200\n",
       "publishedTime           1200\n",
       "dtype: int64"
      ]
     },
     "execution_count": 20,
     "metadata": {},
     "output_type": "execute_result"
    }
   ],
   "source": [
    "web_dev.count()"
   ]
  },
  {
   "cell_type": "code",
   "execution_count": 21,
   "metadata": {},
   "outputs": [
    {
     "data": {
      "text/plain": [
       "7980572"
      ]
     },
     "execution_count": 21,
     "metadata": {},
     "output_type": "execute_result"
    }
   ],
   "source": [
    "# total sum number of all subscribers\n",
    "web_dev.numSubscribers.sum()"
   ]
  },
  {
   "cell_type": "code",
   "execution_count": 22,
   "metadata": {},
   "outputs": [
    {
     "data": {
      "text/plain": [
       "4984164"
      ]
     },
     "execution_count": 22,
     "metadata": {},
     "output_type": "execute_result"
    }
   ],
   "source": [
    "# sum of numSubscribers for courses having under 25,000 subscribers\n",
    "under25k.numSubscribers.sum()"
   ]
  },
  {
   "cell_type": "code",
   "execution_count": 23,
   "metadata": {},
   "outputs": [
    {
     "data": {
      "text/plain": [
       "2996408"
      ]
     },
     "execution_count": 23,
     "metadata": {},
     "output_type": "execute_result"
    }
   ],
   "source": [
    "# sum of numSubscribers for courses having over 25,000 subscribers\n",
    "sum_over25k = web_dev.numSubscribers.sum() - under25k.numSubscribers.sum()\n",
    "sum_over25k"
   ]
  },
  {
   "cell_type": "code",
   "execution_count": 24,
   "metadata": {},
   "outputs": [
    {
     "data": {
      "text/plain": [
       "37.5"
      ]
     },
     "execution_count": 24,
     "metadata": {},
     "output_type": "execute_result"
    }
   ],
   "source": [
    "# percentage of total students the top performing 4% of classes holds\n",
    "top_percentile = ((sum_over25k / web_dev.numSubscribers.sum())*100).round(1)\n",
    "top_percentile"
   ]
  },
  {
   "cell_type": "code",
   "execution_count": 25,
   "metadata": {},
   "outputs": [
    {
     "data": {
      "text/plain": [
       "62.5"
      ]
     },
     "execution_count": 25,
     "metadata": {},
     "output_type": "execute_result"
    }
   ],
   "source": [
    "# percentage of total students the bottom performing 96% of classes holds\n",
    "bottom_percentile = ((under25k.numSubscribers.sum() / web_dev.numSubscribers.sum())*100).round(1)\n",
    "bottom_percentile"
   ]
  },
  {
   "cell_type": "markdown",
   "metadata": {},
   "source": [
    "# Possible To Do A Waterfall Chart Here"
   ]
  },
  {
   "cell_type": "code",
   "execution_count": 26,
   "metadata": {},
   "outputs": [],
   "source": [
    "# data = {'Percentile': ['Top Percentile (Over 25K Subscribers)','Bottom Percentile (Under 25K Subscribers)','All'],\n",
    "#         'Sum Number of Courses Held': [53,1147,1200],\n",
    "#         'Percentage of All Courses Held': [4,96,100],\n",
    "#         'Sum Number of Subscribers': [2996408,4984164,7980572],\n",
    "#         'Percentage of Subscribers': [38,62,100]}\n",
    "# stats = pd.DataFrame(data, columns=['Percentile','Sum Number of Courses Held','Percentage of All Courses Held','Sum Number of Subscribers','Percentage of Subscribers'])\n",
    "# stats"
   ]
  },
  {
   "cell_type": "code",
   "execution_count": 27,
   "metadata": {},
   "outputs": [
    {
     "data": {
      "text/html": [
       "<div>\n",
       "<style scoped>\n",
       "    .dataframe tbody tr th:only-of-type {\n",
       "        vertical-align: middle;\n",
       "    }\n",
       "\n",
       "    .dataframe tbody tr th {\n",
       "        vertical-align: top;\n",
       "    }\n",
       "\n",
       "    .dataframe thead th {\n",
       "        text-align: right;\n",
       "    }\n",
       "</style>\n",
       "<table border=\"1\" class=\"dataframe\">\n",
       "  <thead>\n",
       "    <tr style=\"text-align: right;\">\n",
       "      <th></th>\n",
       "      <th>Percentile</th>\n",
       "      <th>Sum Number of Courses Held</th>\n",
       "      <th>Percentage of All Courses Held</th>\n",
       "      <th>Sum Number of Subscribers</th>\n",
       "      <th>Percentage of Subscribers</th>\n",
       "    </tr>\n",
       "  </thead>\n",
       "  <tbody>\n",
       "    <tr>\n",
       "      <th>0</th>\n",
       "      <td>Courses with Under 25K Subs</td>\n",
       "      <td>1147</td>\n",
       "      <td>96</td>\n",
       "      <td>4984164</td>\n",
       "      <td>62</td>\n",
       "    </tr>\n",
       "    <tr>\n",
       "      <th>1</th>\n",
       "      <td>Courses with Over 25K Subs</td>\n",
       "      <td>53</td>\n",
       "      <td>4</td>\n",
       "      <td>2996408</td>\n",
       "      <td>38</td>\n",
       "    </tr>\n",
       "  </tbody>\n",
       "</table>\n",
       "</div>"
      ],
      "text/plain": [
       "                    Percentile  Sum Number of Courses Held  \\\n",
       "0  Courses with Under 25K Subs                        1147   \n",
       "1   Courses with Over 25K Subs                          53   \n",
       "\n",
       "   Percentage of All Courses Held  Sum Number of Subscribers  \\\n",
       "0                              96                    4984164   \n",
       "1                               4                    2996408   \n",
       "\n",
       "   Percentage of Subscribers  \n",
       "0                         62  \n",
       "1                         38  "
      ]
     },
     "execution_count": 27,
     "metadata": {},
     "output_type": "execute_result"
    }
   ],
   "source": [
    "# remove spacing and capitalizing in column names\n",
    "\n",
    "data = {'Percentile': ['Courses with Under 25K Subs','Courses with Over 25K Subs'],\n",
    "        'Sum Number of Courses Held': [1147,53],\n",
    "        'Percentage of All Courses Held': [96,4],\n",
    "        'Sum Number of Subscribers': [4984164,2996408],\n",
    "        'Percentage of Subscribers': [62,38]}\n",
    "stats = pd.DataFrame(data, columns=['Percentile','Sum Number of Courses Held','Percentage of All Courses Held','Sum Number of Subscribers','Percentage of Subscribers'])\n",
    "stats"
   ]
  },
  {
   "cell_type": "code",
   "execution_count": 28,
   "metadata": {},
   "outputs": [
    {
     "data": {
      "text/plain": [
       "Text(0.0, 1.0, 'Count of Courses')"
      ]
     },
     "execution_count": 28,
     "metadata": {},
     "output_type": "execute_result"
    },
    {
     "data": {
      "image/png": "[encoded data removed]",
      "text/plain": [
       "<Figure size 720x576 with 1 Axes>"
      ]
     },
     "metadata": {
      "needs_background": "light"
     },
     "output_type": "display_data"
    }
   ],
   "source": [
    "import waterfall_chart\n",
    "\n",
    "plt.rcParams[\"figure.figsize\"] = (10,8)\n",
    "waterfall_chart.plot(stats.Percentile, \n",
    "                     stats[\"Sum Number of Courses Held\"],\n",
    "                     rotation_value = 0, \n",
    "                     net_label = \"Total Number of Courses\", \n",
    "                     formatting = \"{:,.0f} Courses\",\n",
    "                     blue_color = 'lightgrey', \n",
    "                     green_color = 'lightcoral').grid(axis='y')\n",
    "\n",
    "sns.despine()\n",
    "plt.tick_params(left=False,bottom=False)\n",
    "plt.yticks([0])\n",
    "plt.xlabel(\"Course Subcategories\",loc=\"left\",fontsize=25,labelpad=15)\n",
    "plt.ylabel(\"Count of Courses\",loc=\"top\",fontsize=25,labelpad=-40)\n",
    "plt.title(\"Count of Courses\",loc='left',fontsize=30,pad=20)"
   ]
  },
  {
   "cell_type": "code",
   "execution_count": 76,
   "metadata": {},
   "outputs": [
    {
     "data": {
      "text/plain": [
       "Text(0.0, 1.0, 'Count of Subscribers')"
      ]
     },
     "execution_count": 76,
     "metadata": {},
     "output_type": "execute_result"
    },
    {
     "data": {
      "image/png": "[encoded data removed]",
      "text/plain": [
       "<Figure size 720x576 with 1 Axes>"
      ]
     },
     "metadata": {},
     "output_type": "display_data"
    }
   ],
   "source": [
    "sns.set_style(\"whitegrid\")\n",
    "waterfall_chart.plot(stats.Percentile,stats[\"Sum Number of Subscribers\"],\n",
    "        rotation_value=0,net_label=\"Total Number of Subscribers\",formatting=\"{:,.0f} Subscribers\",\n",
    "        blue_color='lightgrey',green_color='lightseagreen')\n",
    "\n",
    "sns.despine()\n",
    "plt.grid(True,which=\"minor\")\n",
    "plt.tick_params(left=False,bottom=False)\n",
    "# plt.yticks([0])\n",
    "plt.xlabel(\"Course Subcategories\",loc=\"left\",fontsize=25,labelpad=15)\n",
    "plt.ylabel(\"Count of Subscribers\",loc=\"top\",fontsize=25,labelpad=10)\n",
    "plt.title(\"Count of Subscribers\",loc='left',fontsize=30,pad=20)"
   ]
  },
  {
   "cell_type": "code",
   "execution_count": 61,
   "metadata": {},
   "outputs": [
    {
     "data": {
      "text/plain": [
       "Text(0.0, 1.0, 'Discrepancy Between Courses Having Over or Under 25,000 Subscribers')"
      ]
     },
     "execution_count": 61,
     "metadata": {},
     "output_type": "execute_result"
    },
    {
     "data": {
      "text/plain": [
       "<Figure size 1296x1296 with 0 Axes>"
      ]
     },
     "metadata": {},
     "output_type": "display_data"
    },
    {
     "data": {
      "image/png": "[encoded data removed]",
      "text/plain": [
       "<Figure size 720x576 with 1 Axes>"
      ]
     },
     "metadata": {},
     "output_type": "display_data"
    }
   ],
   "source": [
    "# figure out how to mark the segments\n",
    "# add % sign to x-tick labels\n",
    "from matplotlib import cm\n",
    "cmap = cm.get_cmap('Paired')\n",
    "\n",
    "plt.figure(figsize=(18,18))\n",
    "sns.set_style('whitegrid')\n",
    "# plt.rcParams['axes.axisbelow'] = True\n",
    "stats[['Percentage of Subscribers','Percentage of All Courses Held']].T.plot(kind='barh', stacked=True,cmap=cmap)\n",
    "plt.legend(['Under 25k','Over 25K'],loc='center left',fontsize=12)\n",
    "sns.despine(left=True, top=True,bottom=True)\n",
    "plt.tick_params(left=False,length=40)\n",
    "plt.title(\"Discrepancy Between Courses Having Over or Under 25,000 Subscribers\",loc='left',fontsize=18,fontweight=50)"
   ]
  },
  {
   "cell_type": "markdown",
   "metadata": {},
   "source": [
    "# Summary of What the Viz is Supposed to Say\n",
    "\n",
    "Make a storyboard with the data I got.\n",
    "\n",
    "1. Is there some kind of conflict or stakes that can be brought up with the data? What's in it for the reader to get invested in this project?"
   ]
  },
  {
   "cell_type": "markdown",
   "metadata": {},
   "source": [
    "# Visualizing Descriptive Insights\n",
    "From this histogram, it looks like a whopping 96% of courses on Udemy has under 25,000 subscribers; this is 62% of all subscribers. Meaning that the top 4 percentile of classes possess holds 38% of all subscribers"
   ]
  },
  {
   "cell_type": "code",
   "execution_count": 31,
   "metadata": {},
   "outputs": [],
   "source": [
    "# plt.figure(figsize=(18,18))\n",
    "# # plt.bar(x=[\"Courses under 25,000 Subscribers\",\"Courses Over 25,000 Subscribers\"],y=[top_percentile,bottom_percentile],height=1)\n",
    "# per = pd.Series[top_percentile,bottom_percentile]\n",
    "# lab = pd.Series[\"Over\",\"Under\"]\n",
    "# sns.factorplot(x=lab,y=per)"
   ]
  },
  {
   "cell_type": "markdown",
   "metadata": {},
   "source": [
    "# What Statistical Analysis Can I Do with Log?\n",
    "Decide whether this part will even be necessary."
   ]
  },
  {
   "cell_type": "code",
   "execution_count": 32,
   "metadata": {},
   "outputs": [
    {
     "data": {
      "text/plain": [
       "<AxesSubplot:xlabel='numSubscribers', ylabel='Count'>"
      ]
     },
     "execution_count": 32,
     "metadata": {},
     "output_type": "execute_result"
    },
    {
     "data": {
      "image/png": "[encoded data removed]",
      "text/plain": [
       "<Figure size 1440x1440 with 1 Axes>"
      ]
     },
     "metadata": {},
     "output_type": "display_data"
    }
   ],
   "source": [
    "import numpy as np\n",
    "numlog = np.log(web_dev.numSubscribers)\n",
    "\n",
    "plt.figure(figsize=(20,20))\n",
    "sns.histplot(numlog)"
   ]
  }
 ],
 "metadata": {
  "kernelspec": {
   "display_name": "Python 3",
   "language": "python",
   "name": "python3"
  },
  "language_info": {
   "codemirror_mode": {
    "name": "ipython",
    "version": 3
   },
   "file_extension": ".py",
   "mimetype": "text/x-python",
   "name": "python",
   "nbconvert_exporter": "python",
   "pygments_lexer": "ipython3",
   "version": "3.8.5"
  }
 },
 "nbformat": 4,
 "nbformat_minor": 4
}
