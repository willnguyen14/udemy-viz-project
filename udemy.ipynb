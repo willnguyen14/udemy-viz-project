{
 "cells": [
  {
   "cell_type": "markdown",
   "metadata": {},
   "source": [
    "# Analysis on Udemy Web Development Courses\n",
    "\n",
    "Udemy is a highly popular online learning platform where courses on a great number of subjects such as computer programming or project management courses are made accessible to anyone willing to learn. This a dataset on Udemy web developement courses from 2017, scrapped by user @chasewillden at *[data.world](http://data.world).* \n",
    "\n",
    "If I were a data analyst working at an online learning company such as Udemy, what would be some inital observations I find? What is the behavior and characteristics of a business metric that Udemy considers to be important? What are some important metrics that are important for Udemy and can we make any inital predictions about the behaviors of said metrics.\n",
    "\n",
    "First, we'll load in the data and explore the first few rows to see what we're dealing with."
   ]
  },
  {
   "cell_type": "code",
   "execution_count": 1,
   "metadata": {},
   "outputs": [
    {
     "data": {
      "text/html": [
       "<div>\n",
       "<style scoped>\n",
       "    .dataframe tbody tr th:only-of-type {\n",
       "        vertical-align: middle;\n",
       "    }\n",
       "\n",
       "    .dataframe tbody tr th {\n",
       "        vertical-align: top;\n",
       "    }\n",
       "\n",
       "    .dataframe thead th {\n",
       "        text-align: right;\n",
       "    }\n",
       "</style>\n",
       "<table border=\"1\" class=\"dataframe\">\n",
       "  <thead>\n",
       "    <tr style=\"text-align: right;\">\n",
       "      <th></th>\n",
       "      <th>id</th>\n",
       "      <th>title</th>\n",
       "      <th>url</th>\n",
       "      <th>isPaid</th>\n",
       "      <th>price</th>\n",
       "      <th>numSubscribers</th>\n",
       "      <th>numReviews</th>\n",
       "      <th>numPublishedLectures</th>\n",
       "      <th>instructionalLevel</th>\n",
       "      <th>contentInfo</th>\n",
       "      <th>publishedTime</th>\n",
       "      <th>Unnamed: 11</th>\n",
       "      <th>Unnamed: 12</th>\n",
       "      <th>Is Paid</th>\n",
       "      <th>Total</th>\n",
       "      <th>Percent</th>\n",
       "    </tr>\n",
       "  </thead>\n",
       "  <tbody>\n",
       "    <tr>\n",
       "      <th>0</th>\n",
       "      <td>28295</td>\n",
       "      <td>Learn Web Designing &amp; HTML5/CSS3 Essentials in...</td>\n",
       "      <td>https://www.udemy.com/build-beautiful-html5-we...</td>\n",
       "      <td>True</td>\n",
       "      <td>75</td>\n",
       "      <td>43285</td>\n",
       "      <td>525</td>\n",
       "      <td>24</td>\n",
       "      <td>All Levels</td>\n",
       "      <td>4 hours</td>\n",
       "      <td>2013-01-03T00:55:31Z</td>\n",
       "      <td>NaN</td>\n",
       "      <td>NaN</td>\n",
       "      <td>Yes</td>\n",
       "      <td>1067.0</td>\n",
       "      <td>89%</td>\n",
       "    </tr>\n",
       "    <tr>\n",
       "      <th>1</th>\n",
       "      <td>19603</td>\n",
       "      <td>Learning Dynamic Website Design - PHP MySQL an...</td>\n",
       "      <td>https://www.udemy.com/learning-dynamic-website...</td>\n",
       "      <td>True</td>\n",
       "      <td>50</td>\n",
       "      <td>47886</td>\n",
       "      <td>285</td>\n",
       "      <td>125</td>\n",
       "      <td>All Levels</td>\n",
       "      <td>12.5 hours</td>\n",
       "      <td>2012-06-18T16:52:34Z</td>\n",
       "      <td>NaN</td>\n",
       "      <td>NaN</td>\n",
       "      <td>No</td>\n",
       "      <td>133.0</td>\n",
       "      <td>11%</td>\n",
       "    </tr>\n",
       "    <tr>\n",
       "      <th>2</th>\n",
       "      <td>889438</td>\n",
       "      <td>ChatBots: Messenger ChatBot with API.AI and No...</td>\n",
       "      <td>https://www.udemy.com/chatbots/</td>\n",
       "      <td>True</td>\n",
       "      <td>50</td>\n",
       "      <td>2577</td>\n",
       "      <td>529</td>\n",
       "      <td>64</td>\n",
       "      <td>All Levels</td>\n",
       "      <td>4.5 hours</td>\n",
       "      <td>2016-06-30T16:57:08Z</td>\n",
       "      <td>NaN</td>\n",
       "      <td>NaN</td>\n",
       "      <td>NaN</td>\n",
       "      <td>NaN</td>\n",
       "      <td>NaN</td>\n",
       "    </tr>\n",
       "    <tr>\n",
       "      <th>3</th>\n",
       "      <td>197836</td>\n",
       "      <td>Projects in HTML5</td>\n",
       "      <td>https://www.udemy.com/projects-in-html5/</td>\n",
       "      <td>True</td>\n",
       "      <td>60</td>\n",
       "      <td>8777</td>\n",
       "      <td>206</td>\n",
       "      <td>75</td>\n",
       "      <td>Intermediate Level</td>\n",
       "      <td>15.5 hours</td>\n",
       "      <td>2014-06-17T05:43:50Z</td>\n",
       "      <td>NaN</td>\n",
       "      <td>NaN</td>\n",
       "      <td>NaN</td>\n",
       "      <td>NaN</td>\n",
       "      <td>NaN</td>\n",
       "    </tr>\n",
       "    <tr>\n",
       "      <th>4</th>\n",
       "      <td>505208</td>\n",
       "      <td>Programming Foundations: HTML5 + CSS3 for Entr...</td>\n",
       "      <td>https://www.udemy.com/html-css-more/</td>\n",
       "      <td>True</td>\n",
       "      <td>20</td>\n",
       "      <td>23764</td>\n",
       "      <td>490</td>\n",
       "      <td>58</td>\n",
       "      <td>Beginner Level</td>\n",
       "      <td>5.5 hours</td>\n",
       "      <td>2015-10-17T04:52:25Z</td>\n",
       "      <td>NaN</td>\n",
       "      <td>NaN</td>\n",
       "      <td>NaN</td>\n",
       "      <td>NaN</td>\n",
       "      <td>NaN</td>\n",
       "    </tr>\n",
       "  </tbody>\n",
       "</table>\n",
       "</div>"
      ],
      "text/plain": [
       "       id                                              title  \\\n",
       "0   28295  Learn Web Designing & HTML5/CSS3 Essentials in...   \n",
       "1   19603  Learning Dynamic Website Design - PHP MySQL an...   \n",
       "2  889438  ChatBots: Messenger ChatBot with API.AI and No...   \n",
       "3  197836                                  Projects in HTML5   \n",
       "4  505208  Programming Foundations: HTML5 + CSS3 for Entr...   \n",
       "\n",
       "                                                 url  isPaid price  \\\n",
       "0  https://www.udemy.com/build-beautiful-html5-we...    True    75   \n",
       "1  https://www.udemy.com/learning-dynamic-website...    True    50   \n",
       "2                    https://www.udemy.com/chatbots/    True    50   \n",
       "3           https://www.udemy.com/projects-in-html5/    True    60   \n",
       "4               https://www.udemy.com/html-css-more/    True    20   \n",
       "\n",
       "   numSubscribers  numReviews  numPublishedLectures  instructionalLevel  \\\n",
       "0           43285         525                    24          All Levels   \n",
       "1           47886         285                   125          All Levels   \n",
       "2            2577         529                    64          All Levels   \n",
       "3            8777         206                    75  Intermediate Level   \n",
       "4           23764         490                    58      Beginner Level   \n",
       "\n",
       "  contentInfo         publishedTime  Unnamed: 11  Unnamed: 12 Is Paid   Total  \\\n",
       "0     4 hours  2013-01-03T00:55:31Z          NaN          NaN     Yes  1067.0   \n",
       "1  12.5 hours  2012-06-18T16:52:34Z          NaN          NaN      No   133.0   \n",
       "2   4.5 hours  2016-06-30T16:57:08Z          NaN          NaN     NaN     NaN   \n",
       "3  15.5 hours  2014-06-17T05:43:50Z          NaN          NaN     NaN     NaN   \n",
       "4   5.5 hours  2015-10-17T04:52:25Z          NaN          NaN     NaN     NaN   \n",
       "\n",
       "  Percent  \n",
       "0     89%  \n",
       "1     11%  \n",
       "2     NaN  \n",
       "3     NaN  \n",
       "4     NaN  "
      ]
     },
     "metadata": {},
     "output_type": "display_data"
    },
    {
     "data": {
      "text/plain": [
       "(1200, 16)"
      ]
     },
     "metadata": {},
     "output_type": "display_data"
    },
    {
     "name": "stdout",
     "output_type": "stream",
     "text": [
      "\n",
      "\n"
     ]
    },
    {
     "data": {
      "text/plain": [
       "id                        int64\n",
       "title                    object\n",
       "url                      object\n",
       "isPaid                     bool\n",
       "price                    object\n",
       "numSubscribers            int64\n",
       "numReviews                int64\n",
       "numPublishedLectures      int64\n",
       "instructionalLevel       object\n",
       "contentInfo              object\n",
       "publishedTime            object\n",
       "Unnamed: 11             float64\n",
       "Unnamed: 12             float64\n",
       "Is Paid                  object\n",
       "Total                   float64\n",
       "Percent                  object\n",
       "dtype: object"
      ]
     },
     "execution_count": 1,
     "metadata": {},
     "output_type": "execute_result"
    }
   ],
   "source": [
    "import pandas as pd\n",
    "web_dev = pd.read_csv(\"UdemyWebDevelopment.csv\")\n",
    "\n",
    "original = web_dev\n",
    "\n",
    "display(web_dev.head())\n",
    "display(web_dev.shape)\n",
    "print(\"\\n\")\n",
    "\n",
    "web_dev.dtypes"
   ]
  },
  {
   "cell_type": "code",
   "execution_count": 2,
   "metadata": {},
   "outputs": [
    {
     "name": "stdout",
     "output_type": "stream",
     "text": [
      "id - 0.0%\n",
      "title - 0.0%\n",
      "url - 0.0%\n",
      "isPaid - 0.0%\n",
      "price - 0.0%\n",
      "numSubscribers - 0.0%\n",
      "numReviews - 0.0%\n",
      "numPublishedLectures - 0.0%\n",
      "instructionalLevel - 0.0%\n",
      "contentInfo - 0.0%\n",
      "publishedTime - 0.0%\n",
      "Unnamed: 11 - 100.0%\n",
      "Unnamed: 12 - 100.0%\n",
      "Is Paid - 99.83333333333333%\n",
      "Total - 99.83333333333333%\n",
      "Percent - 99.83333333333333%\n"
     ]
    }
   ],
   "source": [
    "# algorithm for code below\n",
    "\n",
    "# iterate through each iterable in columns in for loop\n",
    "# check each iterable column for null values\n",
    "    # output of web_dev[col].isnull() is True or False\n",
    "# get the average of null values in each column (12 null values over 1200 total rows)\n",
    "# format the column name and percentages found\n",
    "\n",
    "import numpy as np\n",
    "for col in web_dev.columns:\n",
    "    pct_missing = np.mean(web_dev[col].isnull())\n",
    "    print('{} - {}%'.format(col, pct_missing*100))\n",
    "    \n",
    "# drop columns that aren't meaningful\n",
    "web_dev = web_dev.drop([\"Unnamed: 11\",\"Unnamed: 12\",\"Is Paid\",\"Total\",\"Percent\"], axis=1)\n",
    "\n",
    "# sort dataframe by numSubscribers (popularity)\n",
    "web_dev = web_dev.sort_values(by=['numSubscribers'], ascending=False)"
   ]
  },
  {
   "cell_type": "markdown",
   "metadata": {},
   "source": [
    "# Why is dtype of \"price\" an object?\n",
    "\n",
    "First, we have found two columns that contains nothing, as well as 3 additional columns created by the dataset's creator. These columns are of no use to us and will be dropped. After checking the columns for any missing values and for the correct dypes, we have found that there are no missing values, and the `price` and `contentInfo` columns are of the `object` dtype instead of `int` and `float`."
   ]
  },
  {
   "cell_type": "code",
   "execution_count": 3,
   "metadata": {},
   "outputs": [
    {
     "data": {
      "text/html": [
       "<div>\n",
       "<style scoped>\n",
       "    .dataframe tbody tr th:only-of-type {\n",
       "        vertical-align: middle;\n",
       "    }\n",
       "\n",
       "    .dataframe tbody tr th {\n",
       "        vertical-align: top;\n",
       "    }\n",
       "\n",
       "    .dataframe thead th {\n",
       "        text-align: right;\n",
       "    }\n",
       "</style>\n",
       "<table border=\"1\" class=\"dataframe\">\n",
       "  <thead>\n",
       "    <tr style=\"text-align: right;\">\n",
       "      <th></th>\n",
       "      <th>id</th>\n",
       "      <th>title</th>\n",
       "      <th>url</th>\n",
       "      <th>isPaid</th>\n",
       "      <th>price</th>\n",
       "      <th>numSubscribers</th>\n",
       "      <th>numReviews</th>\n",
       "      <th>numPublishedLectures</th>\n",
       "      <th>instructionalLevel</th>\n",
       "      <th>contentInfo</th>\n",
       "      <th>published_date</th>\n",
       "    </tr>\n",
       "  </thead>\n",
       "  <tbody>\n",
       "    <tr>\n",
       "      <th>349</th>\n",
       "      <td>41295</td>\n",
       "      <td>Learn HTML5 Programming From Scratch</td>\n",
       "      <td>https://www.udemy.com/learn-html5-programming-...</td>\n",
       "      <td>False</td>\n",
       "      <td>Free</td>\n",
       "      <td>268923</td>\n",
       "      <td>8629</td>\n",
       "      <td>45</td>\n",
       "      <td>All</td>\n",
       "      <td>10.5 hours</td>\n",
       "      <td>2013-02-14</td>\n",
       "    </tr>\n",
       "    <tr>\n",
       "      <th>554</th>\n",
       "      <td>59014</td>\n",
       "      <td>Coding for Entrepreneurs Basic</td>\n",
       "      <td>https://www.udemy.com/coding-for-entrepreneurs...</td>\n",
       "      <td>False</td>\n",
       "      <td>Free</td>\n",
       "      <td>161029</td>\n",
       "      <td>279</td>\n",
       "      <td>27</td>\n",
       "      <td>Beginner</td>\n",
       "      <td>3.5 hours</td>\n",
       "      <td>2013-06-09</td>\n",
       "    </tr>\n",
       "    <tr>\n",
       "      <th>752</th>\n",
       "      <td>625204</td>\n",
       "      <td>The Web Developer Bootcamp</td>\n",
       "      <td>https://www.udemy.com/the-web-developer-bootcamp/</td>\n",
       "      <td>True</td>\n",
       "      <td>200</td>\n",
       "      <td>121584</td>\n",
       "      <td>27445</td>\n",
       "      <td>342</td>\n",
       "      <td>All</td>\n",
       "      <td>43 hours</td>\n",
       "      <td>2015-11-02</td>\n",
       "    </tr>\n",
       "    <tr>\n",
       "      <th>305</th>\n",
       "      <td>173548</td>\n",
       "      <td>Build Your First Website in 1 Week with HTML5 ...</td>\n",
       "      <td>https://www.udemy.com/build-your-first-website...</td>\n",
       "      <td>False</td>\n",
       "      <td>Free</td>\n",
       "      <td>120291</td>\n",
       "      <td>5924</td>\n",
       "      <td>30</td>\n",
       "      <td>Beginner</td>\n",
       "      <td>3 hours</td>\n",
       "      <td>2014-04-08</td>\n",
       "    </tr>\n",
       "    <tr>\n",
       "      <th>754</th>\n",
       "      <td>764164</td>\n",
       "      <td>The Complete Web Developer Course 2.0</td>\n",
       "      <td>https://www.udemy.com/the-complete-web-develop...</td>\n",
       "      <td>True</td>\n",
       "      <td>200</td>\n",
       "      <td>114512</td>\n",
       "      <td>22412</td>\n",
       "      <td>304</td>\n",
       "      <td>All</td>\n",
       "      <td>30.5 hours</td>\n",
       "      <td>2016-03-08</td>\n",
       "    </tr>\n",
       "  </tbody>\n",
       "</table>\n",
       "</div>"
      ],
      "text/plain": [
       "         id                                              title  \\\n",
       "349   41295               Learn HTML5 Programming From Scratch   \n",
       "554   59014                     Coding for Entrepreneurs Basic   \n",
       "752  625204                         The Web Developer Bootcamp   \n",
       "305  173548  Build Your First Website in 1 Week with HTML5 ...   \n",
       "754  764164              The Complete Web Developer Course 2.0   \n",
       "\n",
       "                                                   url  isPaid price  \\\n",
       "349  https://www.udemy.com/learn-html5-programming-...   False  Free   \n",
       "554  https://www.udemy.com/coding-for-entrepreneurs...   False  Free   \n",
       "752  https://www.udemy.com/the-web-developer-bootcamp/    True   200   \n",
       "305  https://www.udemy.com/build-your-first-website...   False  Free   \n",
       "754  https://www.udemy.com/the-complete-web-develop...    True   200   \n",
       "\n",
       "     numSubscribers  numReviews  numPublishedLectures instructionalLevel  \\\n",
       "349          268923        8629                    45                All   \n",
       "554          161029         279                    27           Beginner   \n",
       "752          121584       27445                   342                All   \n",
       "305          120291        5924                    30           Beginner   \n",
       "754          114512       22412                   304                All   \n",
       "\n",
       "    contentInfo published_date  \n",
       "349  10.5 hours     2013-02-14  \n",
       "554   3.5 hours     2013-06-09  \n",
       "752    43 hours     2015-11-02  \n",
       "305     3 hours     2014-04-08  \n",
       "754  30.5 hours     2016-03-08  "
      ]
     },
     "execution_count": 3,
     "metadata": {},
     "output_type": "execute_result"
    }
   ],
   "source": [
    "# clean publishedTime column\n",
    "web_dev.publishedTime = pd.to_datetime(web_dev.publishedTime).dt.date\n",
    "web_dev = web_dev.rename(columns = {web_dev.columns[10]: \"published_date\"})\n",
    "\n",
    "# clean instructionalLevel column\n",
    "web_dev.instructionalLevel = web_dev.instructionalLevel.str.split().str[0]\n",
    "\n",
    "web_dev.head()"
   ]
  },
  {
   "cell_type": "markdown",
   "metadata": {},
   "source": [
    "# Cleaning the Price Column\n",
    "Now that the dataset looks a little cleaner, we can see that we are dealing with 11 columns with 1,200 rows in each. \n",
    "\n",
    "After checking what's happening with the `price` column, we can see that one of the values is `Free`. We want this column to have a dtype of `int` so that we can potentially perform calculations on this column by simply replacing `Free` with `0`."
   ]
  },
  {
   "cell_type": "code",
   "execution_count": 4,
   "metadata": {},
   "outputs": [
    {
     "data": {
      "text/plain": [
       "dtype('O')"
      ]
     },
     "metadata": {},
     "output_type": "display_data"
    },
    {
     "name": "stdout",
     "output_type": "stream",
     "text": [
      "\n",
      "\n"
     ]
    },
    {
     "data": {
      "text/plain": [
       "20      187\n",
       "Free    133\n",
       "50      121\n",
       "200     113\n",
       "195      72\n",
       "Name: price, dtype: int64"
      ]
     },
     "metadata": {},
     "output_type": "display_data"
    },
    {
     "name": "stdout",
     "output_type": "stream",
     "text": [
      "\n",
      "\n"
     ]
    },
    {
     "data": {
      "text/plain": [
       "20     187\n",
       "0      133\n",
       "50     121\n",
       "200    113\n",
       "195     72\n",
       "Name: price, dtype: int64"
      ]
     },
     "metadata": {},
     "output_type": "display_data"
    },
    {
     "name": "stdout",
     "output_type": "stream",
     "text": [
      "\n",
      "\n"
     ]
    },
    {
     "data": {
      "text/plain": [
       "dtype('int32')"
      ]
     },
     "metadata": {},
     "output_type": "display_data"
    },
    {
     "name": "stdout",
     "output_type": "stream",
     "text": [
      "\n",
      "\n"
     ]
    },
    {
     "data": {
      "text/html": [
       "<div>\n",
       "<style scoped>\n",
       "    .dataframe tbody tr th:only-of-type {\n",
       "        vertical-align: middle;\n",
       "    }\n",
       "\n",
       "    .dataframe tbody tr th {\n",
       "        vertical-align: top;\n",
       "    }\n",
       "\n",
       "    .dataframe thead th {\n",
       "        text-align: right;\n",
       "    }\n",
       "</style>\n",
       "<table border=\"1\" class=\"dataframe\">\n",
       "  <thead>\n",
       "    <tr style=\"text-align: right;\">\n",
       "      <th></th>\n",
       "      <th>id</th>\n",
       "      <th>title</th>\n",
       "      <th>url</th>\n",
       "      <th>isPaid</th>\n",
       "      <th>price</th>\n",
       "      <th>numSubscribers</th>\n",
       "      <th>numReviews</th>\n",
       "      <th>numPublishedLectures</th>\n",
       "      <th>instructionalLevel</th>\n",
       "      <th>contentInfo</th>\n",
       "      <th>published_date</th>\n",
       "      <th>revenue</th>\n",
       "    </tr>\n",
       "  </thead>\n",
       "  <tbody>\n",
       "    <tr>\n",
       "      <th>349</th>\n",
       "      <td>41295</td>\n",
       "      <td>Learn HTML5 Programming From Scratch</td>\n",
       "      <td>https://www.udemy.com/learn-html5-programming-...</td>\n",
       "      <td>False</td>\n",
       "      <td>0</td>\n",
       "      <td>268923</td>\n",
       "      <td>8629</td>\n",
       "      <td>45</td>\n",
       "      <td>All</td>\n",
       "      <td>10.5 hours</td>\n",
       "      <td>2013-02-14</td>\n",
       "      <td>0</td>\n",
       "    </tr>\n",
       "    <tr>\n",
       "      <th>554</th>\n",
       "      <td>59014</td>\n",
       "      <td>Coding for Entrepreneurs Basic</td>\n",
       "      <td>https://www.udemy.com/coding-for-entrepreneurs...</td>\n",
       "      <td>False</td>\n",
       "      <td>0</td>\n",
       "      <td>161029</td>\n",
       "      <td>279</td>\n",
       "      <td>27</td>\n",
       "      <td>Beginner</td>\n",
       "      <td>3.5 hours</td>\n",
       "      <td>2013-06-09</td>\n",
       "      <td>0</td>\n",
       "    </tr>\n",
       "    <tr>\n",
       "      <th>752</th>\n",
       "      <td>625204</td>\n",
       "      <td>The Web Developer Bootcamp</td>\n",
       "      <td>https://www.udemy.com/the-web-developer-bootcamp/</td>\n",
       "      <td>True</td>\n",
       "      <td>200</td>\n",
       "      <td>121584</td>\n",
       "      <td>27445</td>\n",
       "      <td>342</td>\n",
       "      <td>All</td>\n",
       "      <td>43 hours</td>\n",
       "      <td>2015-11-02</td>\n",
       "      <td>24316800</td>\n",
       "    </tr>\n",
       "    <tr>\n",
       "      <th>305</th>\n",
       "      <td>173548</td>\n",
       "      <td>Build Your First Website in 1 Week with HTML5 ...</td>\n",
       "      <td>https://www.udemy.com/build-your-first-website...</td>\n",
       "      <td>False</td>\n",
       "      <td>0</td>\n",
       "      <td>120291</td>\n",
       "      <td>5924</td>\n",
       "      <td>30</td>\n",
       "      <td>Beginner</td>\n",
       "      <td>3 hours</td>\n",
       "      <td>2014-04-08</td>\n",
       "      <td>0</td>\n",
       "    </tr>\n",
       "    <tr>\n",
       "      <th>754</th>\n",
       "      <td>764164</td>\n",
       "      <td>The Complete Web Developer Course 2.0</td>\n",
       "      <td>https://www.udemy.com/the-complete-web-develop...</td>\n",
       "      <td>True</td>\n",
       "      <td>200</td>\n",
       "      <td>114512</td>\n",
       "      <td>22412</td>\n",
       "      <td>304</td>\n",
       "      <td>All</td>\n",
       "      <td>30.5 hours</td>\n",
       "      <td>2016-03-08</td>\n",
       "      <td>22902400</td>\n",
       "    </tr>\n",
       "  </tbody>\n",
       "</table>\n",
       "</div>"
      ],
      "text/plain": [
       "         id                                              title  \\\n",
       "349   41295               Learn HTML5 Programming From Scratch   \n",
       "554   59014                     Coding for Entrepreneurs Basic   \n",
       "752  625204                         The Web Developer Bootcamp   \n",
       "305  173548  Build Your First Website in 1 Week with HTML5 ...   \n",
       "754  764164              The Complete Web Developer Course 2.0   \n",
       "\n",
       "                                                   url  isPaid  price  \\\n",
       "349  https://www.udemy.com/learn-html5-programming-...   False      0   \n",
       "554  https://www.udemy.com/coding-for-entrepreneurs...   False      0   \n",
       "752  https://www.udemy.com/the-web-developer-bootcamp/    True    200   \n",
       "305  https://www.udemy.com/build-your-first-website...   False      0   \n",
       "754  https://www.udemy.com/the-complete-web-develop...    True    200   \n",
       "\n",
       "     numSubscribers  numReviews  numPublishedLectures instructionalLevel  \\\n",
       "349          268923        8629                    45                All   \n",
       "554          161029         279                    27           Beginner   \n",
       "752          121584       27445                   342                All   \n",
       "305          120291        5924                    30           Beginner   \n",
       "754          114512       22412                   304                All   \n",
       "\n",
       "    contentInfo published_date   revenue  \n",
       "349  10.5 hours     2013-02-14         0  \n",
       "554   3.5 hours     2013-06-09         0  \n",
       "752    43 hours     2015-11-02  24316800  \n",
       "305     3 hours     2014-04-08         0  \n",
       "754  30.5 hours     2016-03-08  22902400  "
      ]
     },
     "execution_count": 4,
     "metadata": {},
     "output_type": "execute_result"
    }
   ],
   "source": [
    "display(web_dev.price.dtype)\n",
    "print(\"\\n\")\n",
    "\n",
    "# there are 133 instances of the string \"Free\"\n",
    "display(web_dev.price.value_counts().head())\n",
    "print(\"\\n\")\n",
    "\n",
    "# replace string with 0 and change column dtype to int\n",
    "web_dev.price.replace(\"Free\", 0, inplace=True)\n",
    "web_dev.price = web_dev.price.astype(int)\n",
    "display(web_dev.price.value_counts().head(5))\n",
    "\n",
    "# create a new column calculating revenue now that the price column is clean\n",
    "web_dev[\"revenue\"] = web_dev.price * web_dev.numSubscribers\n",
    "print(\"\\n\")\n",
    "\n",
    "display(web_dev.price.dtype)\n",
    "print(\"\\n\")\n",
    "\n",
    "web_dev.head()"
   ]
  },
  {
   "cell_type": "markdown",
   "metadata": {},
   "source": [
    "# Cleaning The `contentInfo` Column\n",
    "We want this column to be dtype `float` and we can't perform any calculations if there is a substring attached for the unit. We'll change the column name to `contentInfo_hours` and then see what we are dealing with. The interesting thing is that there are some values expressed in minutes instead of hours. We need to first convert the values that are in minutes to be expressed in hours instead so that we don't get confused with `34 mins` for `34 hours` when we remove all of the unit substrings. However, the exact number of minutes a course has is redundant for the analysis, so we will express any course shorter than 1 hour as `0` hours"
   ]
  },
  {
   "cell_type": "markdown",
   "metadata": {},
   "source": [
    "Every class that is under one hour will be denoted as 0 (hours), as a few minutes difference in the length of the classes under and hour will not be significant to the analysis\n",
    "\n",
    "After renaming the column, we'll first remove any row values with \" mins\". Since we know that only the row values that are floats instead of string objects are minutes, we'll isolate those row values to convert them to minutes. And then we can clean the rest of the row values because we know that those are hour values.\n",
    "\n",
    "The significance of knowing the exact number of minutes a course under an hour as is very inconsequential."
   ]
  },
  {
   "cell_type": "code",
   "execution_count": 5,
   "metadata": {},
   "outputs": [
    {
     "data": {
      "text/plain": [
       "1 hour        136\n",
       "1.5 hours     124\n",
       "2 hours       123\n",
       "3 hours        82\n",
       "3.5 hours      74\n",
       "2.5 hours      71\n",
       "4 hours        56\n",
       "5 hours        41\n",
       "4.5 hours      38\n",
       "5.5 hours      34\n",
       "6.5 hours      30\n",
       "6 hours        26\n",
       "7 hours        25\n",
       "7.5 hours      20\n",
       "8 hours        18\n",
       "9 hours        18\n",
       "8.5 hours      13\n",
       "12.5 hours     11\n",
       "11 hours       11\n",
       "13 hours       11\n",
       "10 hours       10\n",
       "10.5 hours     10\n",
       "37 mins         9\n",
       "34 mins         9\n",
       "9.5 hours       9\n",
       "Name: contentInfo_hours, dtype: int64"
      ]
     },
     "metadata": {},
     "output_type": "display_data"
    },
    {
     "name": "stdout",
     "output_type": "stream",
     "text": [
      "\n",
      "\n"
     ]
    },
    {
     "data": {
      "text/plain": [
       "dtype('O')"
      ]
     },
     "metadata": {},
     "output_type": "display_data"
    },
    {
     "name": "stdout",
     "output_type": "stream",
     "text": [
      "\n",
      "\n",
      "1.0    136\n",
      "1.5    124\n",
      "2.0    123\n",
      "3.0     82\n",
      "0.0     76\n",
      "3.5     74\n",
      "2.5     71\n",
      "4.0     56\n",
      "5.0     41\n",
      "4.5     38\n",
      "Name: contentInfo_hours, dtype: int64\n",
      "\n",
      "\n"
     ]
    },
    {
     "data": {
      "text/plain": [
       "dtype('float64')"
      ]
     },
     "execution_count": 5,
     "metadata": {},
     "output_type": "execute_result"
    }
   ],
   "source": [
    "# adjust the column name to indicate that the float values are in hours\n",
    "web_dev = web_dev.rename(columns = {web_dev.columns[9]: \"contentInfo_hours\"})\n",
    "\n",
    "# this is to help display all the unsummarized rows in .value_counts()\n",
    "pd.set_option(\"display.max_rows\", None)\n",
    "\n",
    "display(web_dev.contentInfo_hours.value_counts().head(25))\n",
    "print(\"\\n\")\n",
    "\n",
    "display(web_dev.contentInfo_hours.dtype)\n",
    "print(\"\\n\")\n",
    "\n",
    "# change any row containing substring \" mins\" to 0 and remove \" hour\" and \" hours\" substrings from all rows; change column to float\n",
    "web_dev.contentInfo_hours = web_dev.contentInfo_hours.apply(lambda x: '0' if ' mins' in x else x)\n",
    "web_dev.contentInfo_hours = web_dev.contentInfo_hours.replace(to_replace =[' hour$',' hours$'], value = \"\", regex = True)\n",
    "web_dev.contentInfo_hours = web_dev.contentInfo_hours.astype(float)\n",
    "\n",
    "print(web_dev.contentInfo_hours.value_counts().head(10))\n",
    "print(\"\\n\")\n",
    "\n",
    "web_dev.contentInfo_hours.dtype"
   ]
  },
  {
   "cell_type": "code",
   "execution_count": 6,
   "metadata": {},
   "outputs": [
    {
     "data": {
      "text/html": [
       "<div>\n",
       "<style scoped>\n",
       "    .dataframe tbody tr th:only-of-type {\n",
       "        vertical-align: middle;\n",
       "    }\n",
       "\n",
       "    .dataframe tbody tr th {\n",
       "        vertical-align: top;\n",
       "    }\n",
       "\n",
       "    .dataframe thead th {\n",
       "        text-align: right;\n",
       "    }\n",
       "</style>\n",
       "<table border=\"1\" class=\"dataframe\">\n",
       "  <thead>\n",
       "    <tr style=\"text-align: right;\">\n",
       "      <th></th>\n",
       "      <th>id</th>\n",
       "      <th>title</th>\n",
       "      <th>url</th>\n",
       "      <th>isPaid</th>\n",
       "      <th>price</th>\n",
       "      <th>numSubscribers</th>\n",
       "      <th>numReviews</th>\n",
       "      <th>numPublishedLectures</th>\n",
       "      <th>instructionalLevel</th>\n",
       "      <th>contentInfo</th>\n",
       "      <th>publishedTime</th>\n",
       "      <th>Unnamed: 11</th>\n",
       "      <th>Unnamed: 12</th>\n",
       "      <th>Is Paid</th>\n",
       "      <th>Total</th>\n",
       "      <th>Percent</th>\n",
       "    </tr>\n",
       "  </thead>\n",
       "  <tbody>\n",
       "    <tr>\n",
       "      <th>0</th>\n",
       "      <td>28295</td>\n",
       "      <td>Learn Web Designing &amp; HTML5/CSS3 Essentials in...</td>\n",
       "      <td>https://www.udemy.com/build-beautiful-html5-we...</td>\n",
       "      <td>True</td>\n",
       "      <td>75</td>\n",
       "      <td>43285</td>\n",
       "      <td>525</td>\n",
       "      <td>24</td>\n",
       "      <td>All Levels</td>\n",
       "      <td>4 hours</td>\n",
       "      <td>2013-01-03T00:55:31Z</td>\n",
       "      <td>NaN</td>\n",
       "      <td>NaN</td>\n",
       "      <td>Yes</td>\n",
       "      <td>1067.0</td>\n",
       "      <td>89%</td>\n",
       "    </tr>\n",
       "    <tr>\n",
       "      <th>1</th>\n",
       "      <td>19603</td>\n",
       "      <td>Learning Dynamic Website Design - PHP MySQL an...</td>\n",
       "      <td>https://www.udemy.com/learning-dynamic-website...</td>\n",
       "      <td>True</td>\n",
       "      <td>50</td>\n",
       "      <td>47886</td>\n",
       "      <td>285</td>\n",
       "      <td>125</td>\n",
       "      <td>All Levels</td>\n",
       "      <td>12.5 hours</td>\n",
       "      <td>2012-06-18T16:52:34Z</td>\n",
       "      <td>NaN</td>\n",
       "      <td>NaN</td>\n",
       "      <td>No</td>\n",
       "      <td>133.0</td>\n",
       "      <td>11%</td>\n",
       "    </tr>\n",
       "    <tr>\n",
       "      <th>2</th>\n",
       "      <td>889438</td>\n",
       "      <td>ChatBots: Messenger ChatBot with API.AI and No...</td>\n",
       "      <td>https://www.udemy.com/chatbots/</td>\n",
       "      <td>True</td>\n",
       "      <td>50</td>\n",
       "      <td>2577</td>\n",
       "      <td>529</td>\n",
       "      <td>64</td>\n",
       "      <td>All Levels</td>\n",
       "      <td>4.5 hours</td>\n",
       "      <td>2016-06-30T16:57:08Z</td>\n",
       "      <td>NaN</td>\n",
       "      <td>NaN</td>\n",
       "      <td>NaN</td>\n",
       "      <td>NaN</td>\n",
       "      <td>NaN</td>\n",
       "    </tr>\n",
       "    <tr>\n",
       "      <th>3</th>\n",
       "      <td>197836</td>\n",
       "      <td>Projects in HTML5</td>\n",
       "      <td>https://www.udemy.com/projects-in-html5/</td>\n",
       "      <td>True</td>\n",
       "      <td>60</td>\n",
       "      <td>8777</td>\n",
       "      <td>206</td>\n",
       "      <td>75</td>\n",
       "      <td>Intermediate Level</td>\n",
       "      <td>15.5 hours</td>\n",
       "      <td>2014-06-17T05:43:50Z</td>\n",
       "      <td>NaN</td>\n",
       "      <td>NaN</td>\n",
       "      <td>NaN</td>\n",
       "      <td>NaN</td>\n",
       "      <td>NaN</td>\n",
       "    </tr>\n",
       "    <tr>\n",
       "      <th>4</th>\n",
       "      <td>505208</td>\n",
       "      <td>Programming Foundations: HTML5 + CSS3 for Entr...</td>\n",
       "      <td>https://www.udemy.com/html-css-more/</td>\n",
       "      <td>True</td>\n",
       "      <td>20</td>\n",
       "      <td>23764</td>\n",
       "      <td>490</td>\n",
       "      <td>58</td>\n",
       "      <td>Beginner Level</td>\n",
       "      <td>5.5 hours</td>\n",
       "      <td>2015-10-17T04:52:25Z</td>\n",
       "      <td>NaN</td>\n",
       "      <td>NaN</td>\n",
       "      <td>NaN</td>\n",
       "      <td>NaN</td>\n",
       "      <td>NaN</td>\n",
       "    </tr>\n",
       "  </tbody>\n",
       "</table>\n",
       "</div>"
      ],
      "text/plain": [
       "       id                                              title  \\\n",
       "0   28295  Learn Web Designing & HTML5/CSS3 Essentials in...   \n",
       "1   19603  Learning Dynamic Website Design - PHP MySQL an...   \n",
       "2  889438  ChatBots: Messenger ChatBot with API.AI and No...   \n",
       "3  197836                                  Projects in HTML5   \n",
       "4  505208  Programming Foundations: HTML5 + CSS3 for Entr...   \n",
       "\n",
       "                                                 url  isPaid price  \\\n",
       "0  https://www.udemy.com/build-beautiful-html5-we...    True    75   \n",
       "1  https://www.udemy.com/learning-dynamic-website...    True    50   \n",
       "2                    https://www.udemy.com/chatbots/    True    50   \n",
       "3           https://www.udemy.com/projects-in-html5/    True    60   \n",
       "4               https://www.udemy.com/html-css-more/    True    20   \n",
       "\n",
       "   numSubscribers  numReviews  numPublishedLectures  instructionalLevel  \\\n",
       "0           43285         525                    24          All Levels   \n",
       "1           47886         285                   125          All Levels   \n",
       "2            2577         529                    64          All Levels   \n",
       "3            8777         206                    75  Intermediate Level   \n",
       "4           23764         490                    58      Beginner Level   \n",
       "\n",
       "  contentInfo         publishedTime  Unnamed: 11  Unnamed: 12 Is Paid   Total  \\\n",
       "0     4 hours  2013-01-03T00:55:31Z          NaN          NaN     Yes  1067.0   \n",
       "1  12.5 hours  2012-06-18T16:52:34Z          NaN          NaN      No   133.0   \n",
       "2   4.5 hours  2016-06-30T16:57:08Z          NaN          NaN     NaN     NaN   \n",
       "3  15.5 hours  2014-06-17T05:43:50Z          NaN          NaN     NaN     NaN   \n",
       "4   5.5 hours  2015-10-17T04:52:25Z          NaN          NaN     NaN     NaN   \n",
       "\n",
       "  Percent  \n",
       "0     89%  \n",
       "1     11%  \n",
       "2     NaN  \n",
       "3     NaN  \n",
       "4     NaN  "
      ]
     },
     "execution_count": 6,
     "metadata": {},
     "output_type": "execute_result"
    }
   ],
   "source": [
    "original.head()"
   ]
  },
  {
   "cell_type": "code",
   "execution_count": 7,
   "metadata": {},
   "outputs": [
    {
     "data": {
      "text/html": [
       "<div>\n",
       "<style scoped>\n",
       "    .dataframe tbody tr th:only-of-type {\n",
       "        vertical-align: middle;\n",
       "    }\n",
       "\n",
       "    .dataframe tbody tr th {\n",
       "        vertical-align: top;\n",
       "    }\n",
       "\n",
       "    .dataframe thead th {\n",
       "        text-align: right;\n",
       "    }\n",
       "</style>\n",
       "<table border=\"1\" class=\"dataframe\">\n",
       "  <thead>\n",
       "    <tr style=\"text-align: right;\">\n",
       "      <th></th>\n",
       "      <th>id</th>\n",
       "      <th>title</th>\n",
       "      <th>url</th>\n",
       "      <th>isPaid</th>\n",
       "      <th>price</th>\n",
       "      <th>numSubscribers</th>\n",
       "      <th>numReviews</th>\n",
       "      <th>numPublishedLectures</th>\n",
       "      <th>instructionalLevel</th>\n",
       "      <th>contentInfo_hours</th>\n",
       "      <th>published_date</th>\n",
       "      <th>revenue</th>\n",
       "    </tr>\n",
       "  </thead>\n",
       "  <tbody>\n",
       "    <tr>\n",
       "      <th>349</th>\n",
       "      <td>41295</td>\n",
       "      <td>Learn HTML5 Programming From Scratch</td>\n",
       "      <td>https://www.udemy.com/learn-html5-programming-...</td>\n",
       "      <td>False</td>\n",
       "      <td>0</td>\n",
       "      <td>268923</td>\n",
       "      <td>8629</td>\n",
       "      <td>45</td>\n",
       "      <td>All</td>\n",
       "      <td>10.5</td>\n",
       "      <td>2013-02-14</td>\n",
       "      <td>0</td>\n",
       "    </tr>\n",
       "    <tr>\n",
       "      <th>554</th>\n",
       "      <td>59014</td>\n",
       "      <td>Coding for Entrepreneurs Basic</td>\n",
       "      <td>https://www.udemy.com/coding-for-entrepreneurs...</td>\n",
       "      <td>False</td>\n",
       "      <td>0</td>\n",
       "      <td>161029</td>\n",
       "      <td>279</td>\n",
       "      <td>27</td>\n",
       "      <td>Beginner</td>\n",
       "      <td>3.5</td>\n",
       "      <td>2013-06-09</td>\n",
       "      <td>0</td>\n",
       "    </tr>\n",
       "    <tr>\n",
       "      <th>752</th>\n",
       "      <td>625204</td>\n",
       "      <td>The Web Developer Bootcamp</td>\n",
       "      <td>https://www.udemy.com/the-web-developer-bootcamp/</td>\n",
       "      <td>True</td>\n",
       "      <td>200</td>\n",
       "      <td>121584</td>\n",
       "      <td>27445</td>\n",
       "      <td>342</td>\n",
       "      <td>All</td>\n",
       "      <td>43.0</td>\n",
       "      <td>2015-11-02</td>\n",
       "      <td>24316800</td>\n",
       "    </tr>\n",
       "    <tr>\n",
       "      <th>305</th>\n",
       "      <td>173548</td>\n",
       "      <td>Build Your First Website in 1 Week with HTML5 ...</td>\n",
       "      <td>https://www.udemy.com/build-your-first-website...</td>\n",
       "      <td>False</td>\n",
       "      <td>0</td>\n",
       "      <td>120291</td>\n",
       "      <td>5924</td>\n",
       "      <td>30</td>\n",
       "      <td>Beginner</td>\n",
       "      <td>3.0</td>\n",
       "      <td>2014-04-08</td>\n",
       "      <td>0</td>\n",
       "    </tr>\n",
       "    <tr>\n",
       "      <th>754</th>\n",
       "      <td>764164</td>\n",
       "      <td>The Complete Web Developer Course 2.0</td>\n",
       "      <td>https://www.udemy.com/the-complete-web-develop...</td>\n",
       "      <td>True</td>\n",
       "      <td>200</td>\n",
       "      <td>114512</td>\n",
       "      <td>22412</td>\n",
       "      <td>304</td>\n",
       "      <td>All</td>\n",
       "      <td>30.5</td>\n",
       "      <td>2016-03-08</td>\n",
       "      <td>22902400</td>\n",
       "    </tr>\n",
       "  </tbody>\n",
       "</table>\n",
       "</div>"
      ],
      "text/plain": [
       "         id                                              title  \\\n",
       "349   41295               Learn HTML5 Programming From Scratch   \n",
       "554   59014                     Coding for Entrepreneurs Basic   \n",
       "752  625204                         The Web Developer Bootcamp   \n",
       "305  173548  Build Your First Website in 1 Week with HTML5 ...   \n",
       "754  764164              The Complete Web Developer Course 2.0   \n",
       "\n",
       "                                                   url  isPaid  price  \\\n",
       "349  https://www.udemy.com/learn-html5-programming-...   False      0   \n",
       "554  https://www.udemy.com/coding-for-entrepreneurs...   False      0   \n",
       "752  https://www.udemy.com/the-web-developer-bootcamp/    True    200   \n",
       "305  https://www.udemy.com/build-your-first-website...   False      0   \n",
       "754  https://www.udemy.com/the-complete-web-develop...    True    200   \n",
       "\n",
       "     numSubscribers  numReviews  numPublishedLectures instructionalLevel  \\\n",
       "349          268923        8629                    45                All   \n",
       "554          161029         279                    27           Beginner   \n",
       "752          121584       27445                   342                All   \n",
       "305          120291        5924                    30           Beginner   \n",
       "754          114512       22412                   304                All   \n",
       "\n",
       "     contentInfo_hours published_date   revenue  \n",
       "349               10.5     2013-02-14         0  \n",
       "554                3.5     2013-06-09         0  \n",
       "752               43.0     2015-11-02  24316800  \n",
       "305                3.0     2014-04-08         0  \n",
       "754               30.5     2016-03-08  22902400  "
      ]
     },
     "execution_count": 7,
     "metadata": {},
     "output_type": "execute_result"
    }
   ],
   "source": [
    "web_dev.head()"
   ]
  },
  {
   "cell_type": "markdown",
   "metadata": {},
   "source": [
    "# Regression Analysis of `contentInfo_hours` and `price`\n",
    "We would think that we can make assumptions that the amount of hours a course has would give us a rough indicator of how it would be priced.\n",
    "\n",
    "Here we can see that more hours in a course generally means that the course will be higher priced but this only applies for when a course has over 20 hours. Between 0 to 20 hours, a course is priced at whatever price it wants to be set at."
   ]
  },
  {
   "cell_type": "code",
   "execution_count": 8,
   "metadata": {},
   "outputs": [
    {
     "data": {
      "text/html": [
       "<div>\n",
       "<style scoped>\n",
       "    .dataframe tbody tr th:only-of-type {\n",
       "        vertical-align: middle;\n",
       "    }\n",
       "\n",
       "    .dataframe tbody tr th {\n",
       "        vertical-align: top;\n",
       "    }\n",
       "\n",
       "    .dataframe thead th {\n",
       "        text-align: right;\n",
       "    }\n",
       "</style>\n",
       "<table border=\"1\" class=\"dataframe\">\n",
       "  <thead>\n",
       "    <tr style=\"text-align: right;\">\n",
       "      <th></th>\n",
       "      <th>price</th>\n",
       "      <th>contentInfo_hours</th>\n",
       "    </tr>\n",
       "  </thead>\n",
       "  <tbody>\n",
       "    <tr>\n",
       "      <th>count</th>\n",
       "      <td>1200.00</td>\n",
       "      <td>1200.00</td>\n",
       "    </tr>\n",
       "    <tr>\n",
       "      <th>mean</th>\n",
       "      <td>77.03</td>\n",
       "      <td>5.56</td>\n",
       "    </tr>\n",
       "    <tr>\n",
       "      <th>std</th>\n",
       "      <td>66.08</td>\n",
       "      <td>7.28</td>\n",
       "    </tr>\n",
       "    <tr>\n",
       "      <th>min</th>\n",
       "      <td>0.00</td>\n",
       "      <td>0.00</td>\n",
       "    </tr>\n",
       "    <tr>\n",
       "      <th>25%</th>\n",
       "      <td>20.00</td>\n",
       "      <td>1.50</td>\n",
       "    </tr>\n",
       "    <tr>\n",
       "      <th>50%</th>\n",
       "      <td>50.00</td>\n",
       "      <td>3.00</td>\n",
       "    </tr>\n",
       "    <tr>\n",
       "      <th>75%</th>\n",
       "      <td>115.00</td>\n",
       "      <td>6.50</td>\n",
       "    </tr>\n",
       "    <tr>\n",
       "      <th>max</th>\n",
       "      <td>200.00</td>\n",
       "      <td>76.50</td>\n",
       "    </tr>\n",
       "  </tbody>\n",
       "</table>\n",
       "</div>"
      ],
      "text/plain": [
       "         price  contentInfo_hours\n",
       "count  1200.00            1200.00\n",
       "mean     77.03               5.56\n",
       "std      66.08               7.28\n",
       "min       0.00               0.00\n",
       "25%      20.00               1.50\n",
       "50%      50.00               3.00\n",
       "75%     115.00               6.50\n",
       "max     200.00              76.50"
      ]
     },
     "metadata": {},
     "output_type": "display_data"
    }
   ],
   "source": [
    "import statsmodels.api as sm\n",
    "\n",
    "# make new dataframe exclusively for the regression with only the \"price\" and \"contentInfo_hours\" columns\n",
    "regdata = web_dev[[\"price\",\"contentInfo_hours\"]]\n",
    "display(regdata.describe().round(2))\n",
    "\n",
    "# the fact that the std for price is $66.08 from the mean, that's pretty crazy"
   ]
  },
  {
   "cell_type": "code",
   "execution_count": 9,
   "metadata": {},
   "outputs": [
    {
     "data": {
      "text/html": [
       "<table class=\"simpletable\">\n",
       "<caption>OLS Regression Results</caption>\n",
       "<tr>\n",
       "  <th>Dep. Variable:</th>          <td>price</td>      <th>  R-squared:         </th> <td>   0.143</td> \n",
       "</tr>\n",
       "<tr>\n",
       "  <th>Model:</th>                   <td>OLS</td>       <th>  Adj. R-squared:    </th> <td>   0.143</td> \n",
       "</tr>\n",
       "<tr>\n",
       "  <th>Method:</th>             <td>Least Squares</td>  <th>  F-statistic:       </th> <td>   200.3</td> \n",
       "</tr>\n",
       "<tr>\n",
       "  <th>Date:</th>             <td>Tue, 12 Oct 2021</td> <th>  Prob (F-statistic):</th> <td>3.62e-42</td> \n",
       "</tr>\n",
       "<tr>\n",
       "  <th>Time:</th>                 <td>22:47:23</td>     <th>  Log-Likelihood:    </th> <td> -6638.5</td> \n",
       "</tr>\n",
       "<tr>\n",
       "  <th>No. Observations:</th>      <td>  1200</td>      <th>  AIC:               </th> <td>1.328e+04</td>\n",
       "</tr>\n",
       "<tr>\n",
       "  <th>Df Residuals:</th>          <td>  1198</td>      <th>  BIC:               </th> <td>1.329e+04</td>\n",
       "</tr>\n",
       "<tr>\n",
       "  <th>Df Model:</th>              <td>     1</td>      <th>                     </th>     <td> </td>    \n",
       "</tr>\n",
       "<tr>\n",
       "  <th>Covariance Type:</th>      <td>nonrobust</td>    <th>                     </th>     <td> </td>    \n",
       "</tr>\n",
       "</table>\n",
       "<table class=\"simpletable\">\n",
       "<tr>\n",
       "          <td></td>             <th>coef</th>     <th>std err</th>      <th>t</th>      <th>P>|t|</th>  <th>[0.025</th>    <th>0.975]</th>  \n",
       "</tr>\n",
       "<tr>\n",
       "  <th>const</th>             <td>   57.9377</td> <td>    2.223</td> <td>   26.066</td> <td> 0.000</td> <td>   53.577</td> <td>   62.299</td>\n",
       "</tr>\n",
       "<tr>\n",
       "  <th>contentInfo_hours</th> <td>    3.4368</td> <td>    0.243</td> <td>   14.154</td> <td> 0.000</td> <td>    2.960</td> <td>    3.913</td>\n",
       "</tr>\n",
       "</table>\n",
       "<table class=\"simpletable\">\n",
       "<tr>\n",
       "  <th>Omnibus:</th>       <td>96.132</td> <th>  Durbin-Watson:     </th> <td>   1.886</td>\n",
       "</tr>\n",
       "<tr>\n",
       "  <th>Prob(Omnibus):</th> <td> 0.000</td> <th>  Jarque-Bera (JB):  </th> <td> 117.606</td>\n",
       "</tr>\n",
       "<tr>\n",
       "  <th>Skew:</th>          <td> 0.759</td> <th>  Prob(JB):          </th> <td>2.90e-26</td>\n",
       "</tr>\n",
       "<tr>\n",
       "  <th>Kurtosis:</th>      <td> 2.784</td> <th>  Cond. No.          </th> <td>    11.6</td>\n",
       "</tr>\n",
       "</table><br/><br/>Notes:<br/>[1] Standard Errors assume that the covariance matrix of the errors is correctly specified."
      ],
      "text/plain": [
       "<class 'statsmodels.iolib.summary.Summary'>\n",
       "\"\"\"\n",
       "                            OLS Regression Results                            \n",
       "==============================================================================\n",
       "Dep. Variable:                  price   R-squared:                       0.143\n",
       "Model:                            OLS   Adj. R-squared:                  0.143\n",
       "Method:                 Least Squares   F-statistic:                     200.3\n",
       "Date:                Tue, 12 Oct 2021   Prob (F-statistic):           3.62e-42\n",
       "Time:                        22:47:23   Log-Likelihood:                -6638.5\n",
       "No. Observations:                1200   AIC:                         1.328e+04\n",
       "Df Residuals:                    1198   BIC:                         1.329e+04\n",
       "Df Model:                           1                                         \n",
       "Covariance Type:            nonrobust                                         \n",
       "=====================================================================================\n",
       "                        coef    std err          t      P>|t|      [0.025      0.975]\n",
       "-------------------------------------------------------------------------------------\n",
       "const                57.9377      2.223     26.066      0.000      53.577      62.299\n",
       "contentInfo_hours     3.4368      0.243     14.154      0.000       2.960       3.913\n",
       "==============================================================================\n",
       "Omnibus:                       96.132   Durbin-Watson:                   1.886\n",
       "Prob(Omnibus):                  0.000   Jarque-Bera (JB):              117.606\n",
       "Skew:                           0.759   Prob(JB):                     2.90e-26\n",
       "Kurtosis:                       2.784   Cond. No.                         11.6\n",
       "==============================================================================\n",
       "\n",
       "Notes:\n",
       "[1] Standard Errors assume that the covariance matrix of the errors is correctly specified.\n",
       "\"\"\""
      ]
     },
     "execution_count": 9,
     "metadata": {},
     "output_type": "execute_result"
    }
   ],
   "source": [
    "# creating a linear regression which predicts price based on course length in hours\n",
    "y = regdata.price\n",
    "x1 = regdata.contentInfo_hours\n",
    "\n",
    "x = sm.add_constant(x1)\n",
    "results = sm.OLS(y,x).fit()\n",
    "results.summary()"
   ]
  },
  {
   "cell_type": "markdown",
   "metadata": {},
   "source": [
    "From this information, we can build our linear regression model as `ŷ = 3.4368x + 57.9377`."
   ]
  },
  {
   "cell_type": "code",
   "execution_count": 10,
   "metadata": {},
   "outputs": [
    {
     "data": {
      "image/png": "[encoded data removed]",
      "text/plain": [
       "<Figure size 936x720 with 1 Axes>"
      ]
     },
     "metadata": {},
     "output_type": "display_data"
    }
   ],
   "source": [
    "import seaborn as sns\n",
    "import matplotlib.pyplot as plt\n",
    "%matplotlib inline\n",
    "\n",
    "sns.set_style(\"whitegrid\", {'axes.grid' : False})\n",
    "plt.figure(figsize=(13,10))\n",
    "sns.regplot(x=web_dev.contentInfo_hours, y=web_dev.price, scatter_kws={\"color\":\"darkgrey\"}, line_kws={\"color\":\"salmon\"})\n",
    "plt.axvline(x=20,dashes=(5, 3), c='salmon')\n",
    "sns.despine()\n",
    "plt.title(\"Regression Plot of Price vs Hours of a Course\",fontsize=30,pad=15,loc='left')\n",
    "plt.xlabel(\"Hours of Course\", fontsize=20, loc=\"left\",labelpad=15)\n",
    "plt.ylabel(\"Price\", fontsize=20, loc=\"top\",labelpad=10)\n",
    "plt.text(77,237,\"ŷ = 3.4368x + 57.9377 \\n\\nLinear regression model \\nfor predicting the price \\nof a course based on \\nthe number of hours it has.\",\n",
    "         fontsize=20,color='salmon',fontweight='bold')\n",
    "plt.text(0.8,215,\"Courses are set at \\nany price when \\nunder 20 hours.\",\n",
    "         fontsize=20,color='salmon',fontweight='bold')\n",
    "plt.show()"
   ]
  },
  {
   "cell_type": "markdown",
   "metadata": {},
   "source": [
    "# There is a positive trend but the data is too sporatic to be able to use the regression model to make any insights.\n",
    "After conducting a regression analysis between `contentInfo_hours` and `price`, we see that there is hardly such a relationship. A course that ranges between a length of under 1 hour to 20 hours of lectures can be priced anywhere from free to the max price: \\\\$200. There are also courses that are under 20 hours can be set at any price point. Some courses that are under 1 hour long can cost over $100! This can be explained that placing large discounts on such high prices can tempt more people to become subscribers, thinking they have snatched a great deal. Discounts can go up to -80% off or free for many days at a time. \n",
    "\n",
    "However, when a course has more than 20 hours of lecture, there is some positive trend of a course bring priced more expensive the more hours it has. There is too much variance between all of the plotted points to the regression line to be able to make confidant predictions on the price of a course given the number of hours of lecture it has. This disproves the initial assumption of being about to determine the price of a course by the number of hours it has.\n",
    "\n",
    "The constant in the regression model implies that even a course at under an hour is priced at at least \\\\$57.94 but obviously there are free classes and classes under 10 hours priced at $200. The regression model is concluded to be unreliable for practical use but we can see based on the visualization and model that there is a general positive trend between price and hours of a course."
   ]
  },
  {
   "cell_type": "markdown",
   "metadata": {},
   "source": [
    "# If not Price and Hours, then what else is correlated?\n",
    "Below, we observe the correlation coefficients between all of the columns and we have found no notable correlation between columns when comparing correlation coefficients. The `numPublishedLectures` and `contentInfo_hours` columns have a correlation coefficient of `0.86`, but that doesn't mean much to us because you're obviously going to have more hours in your course if you publish more lectures."
   ]
  },
  {
   "cell_type": "code",
   "execution_count": 11,
   "metadata": {},
   "outputs": [
    {
     "name": "stdout",
     "output_type": "stream",
     "text": [
      "Correlation Coefficients\n"
     ]
    },
    {
     "data": {
      "text/html": [
       "<div>\n",
       "<style scoped>\n",
       "    .dataframe tbody tr th:only-of-type {\n",
       "        vertical-align: middle;\n",
       "    }\n",
       "\n",
       "    .dataframe tbody tr th {\n",
       "        vertical-align: top;\n",
       "    }\n",
       "\n",
       "    .dataframe thead th {\n",
       "        text-align: right;\n",
       "    }\n",
       "</style>\n",
       "<table border=\"1\" class=\"dataframe\">\n",
       "  <thead>\n",
       "    <tr style=\"text-align: right;\">\n",
       "      <th></th>\n",
       "      <th>id</th>\n",
       "      <th>isPaid</th>\n",
       "      <th>price</th>\n",
       "      <th>numSubscribers</th>\n",
       "      <th>numReviews</th>\n",
       "      <th>numPublishedLectures</th>\n",
       "      <th>contentInfo_hours</th>\n",
       "      <th>revenue</th>\n",
       "    </tr>\n",
       "  </thead>\n",
       "  <tbody>\n",
       "    <tr>\n",
       "      <th>id</th>\n",
       "      <td>1.00</td>\n",
       "      <td>0.04</td>\n",
       "      <td>0.13</td>\n",
       "      <td>-0.26</td>\n",
       "      <td>-0.09</td>\n",
       "      <td>-0.03</td>\n",
       "      <td>-0.05</td>\n",
       "      <td>-0.09</td>\n",
       "    </tr>\n",
       "    <tr>\n",
       "      <th>isPaid</th>\n",
       "      <td>0.04</td>\n",
       "      <td>1.00</td>\n",
       "      <td>0.41</td>\n",
       "      <td>-0.27</td>\n",
       "      <td>-0.07</td>\n",
       "      <td>0.16</td>\n",
       "      <td>0.15</td>\n",
       "      <td>0.12</td>\n",
       "    </tr>\n",
       "    <tr>\n",
       "      <th>price</th>\n",
       "      <td>0.13</td>\n",
       "      <td>0.41</td>\n",
       "      <td>1.00</td>\n",
       "      <td>0.01</td>\n",
       "      <td>0.13</td>\n",
       "      <td>0.39</td>\n",
       "      <td>0.38</td>\n",
       "      <td>0.39</td>\n",
       "    </tr>\n",
       "    <tr>\n",
       "      <th>numSubscribers</th>\n",
       "      <td>-0.26</td>\n",
       "      <td>-0.27</td>\n",
       "      <td>0.01</td>\n",
       "      <td>1.00</td>\n",
       "      <td>0.64</td>\n",
       "      <td>0.13</td>\n",
       "      <td>0.15</td>\n",
       "      <td>0.54</td>\n",
       "    </tr>\n",
       "    <tr>\n",
       "      <th>numReviews</th>\n",
       "      <td>-0.09</td>\n",
       "      <td>-0.07</td>\n",
       "      <td>0.13</td>\n",
       "      <td>0.64</td>\n",
       "      <td>1.00</td>\n",
       "      <td>0.27</td>\n",
       "      <td>0.27</td>\n",
       "      <td>0.78</td>\n",
       "    </tr>\n",
       "    <tr>\n",
       "      <th>numPublishedLectures</th>\n",
       "      <td>-0.03</td>\n",
       "      <td>0.16</td>\n",
       "      <td>0.39</td>\n",
       "      <td>0.13</td>\n",
       "      <td>0.27</td>\n",
       "      <td>1.00</td>\n",
       "      <td>0.86</td>\n",
       "      <td>0.34</td>\n",
       "    </tr>\n",
       "    <tr>\n",
       "      <th>contentInfo_hours</th>\n",
       "      <td>-0.05</td>\n",
       "      <td>0.15</td>\n",
       "      <td>0.38</td>\n",
       "      <td>0.15</td>\n",
       "      <td>0.27</td>\n",
       "      <td>0.86</td>\n",
       "      <td>1.00</td>\n",
       "      <td>0.34</td>\n",
       "    </tr>\n",
       "    <tr>\n",
       "      <th>revenue</th>\n",
       "      <td>-0.09</td>\n",
       "      <td>0.12</td>\n",
       "      <td>0.39</td>\n",
       "      <td>0.54</td>\n",
       "      <td>0.78</td>\n",
       "      <td>0.34</td>\n",
       "      <td>0.34</td>\n",
       "      <td>1.00</td>\n",
       "    </tr>\n",
       "  </tbody>\n",
       "</table>\n",
       "</div>"
      ],
      "text/plain": [
       "                        id  isPaid  price  numSubscribers  numReviews  \\\n",
       "id                    1.00    0.04   0.13           -0.26       -0.09   \n",
       "isPaid                0.04    1.00   0.41           -0.27       -0.07   \n",
       "price                 0.13    0.41   1.00            0.01        0.13   \n",
       "numSubscribers       -0.26   -0.27   0.01            1.00        0.64   \n",
       "numReviews           -0.09   -0.07   0.13            0.64        1.00   \n",
       "numPublishedLectures -0.03    0.16   0.39            0.13        0.27   \n",
       "contentInfo_hours    -0.05    0.15   0.38            0.15        0.27   \n",
       "revenue              -0.09    0.12   0.39            0.54        0.78   \n",
       "\n",
       "                      numPublishedLectures  contentInfo_hours  revenue  \n",
       "id                                   -0.03              -0.05    -0.09  \n",
       "isPaid                                0.16               0.15     0.12  \n",
       "price                                 0.39               0.38     0.39  \n",
       "numSubscribers                        0.13               0.15     0.54  \n",
       "numReviews                            0.27               0.27     0.78  \n",
       "numPublishedLectures                  1.00               0.86     0.34  \n",
       "contentInfo_hours                     0.86               1.00     0.34  \n",
       "revenue                               0.34               0.34     1.00  "
      ]
     },
     "execution_count": 11,
     "metadata": {},
     "output_type": "execute_result"
    }
   ],
   "source": [
    "print(\"Correlation Coefficients\")\n",
    "web_dev.corr().round(2)"
   ]
  },
  {
   "cell_type": "code",
   "execution_count": 12,
   "metadata": {},
   "outputs": [
    {
     "data": {
      "image/png": "[encoded data removed]",
      "text/plain": [
       "<Figure size 936x576 with 2 Axes>"
      ]
     },
     "metadata": {},
     "output_type": "display_data"
    },
    {
     "data": {
      "text/plain": [
       "numPublishedLectures  contentInfo_hours       0.859486\n",
       "contentInfo_hours     numPublishedLectures    0.859486\n",
       "revenue               numReviews              0.783948\n",
       "numReviews            revenue                 0.783948\n",
       "numSubscribers        numReviews              0.643509\n",
       "numReviews            numSubscribers          0.643509\n",
       "revenue               numSubscribers          0.537877\n",
       "numSubscribers        revenue                 0.537877\n",
       "dtype: float64"
      ]
     },
     "metadata": {},
     "output_type": "display_data"
    }
   ],
   "source": [
    "plt.figure(figsize=(13,8))\n",
    "sns.heatmap(web_dev.corr(), annot=True, cmap='RdGy_r')\n",
    "plt.title('Correlation Matrix for Numeric Features',fontsize=30,pad=15)\n",
    "plt.show()\n",
    "\n",
    "# unstacking turns the correlation matrix into a series object, sort by correlation coefficients\n",
    "sorted_pairs = web_dev.corr().unstack().sort_values(ascending=False)\n",
    "\n",
    "# get sorted pairs that's greater than 0.5 but less than 1 (coefficient of 1 means correlation with itself, which isn't useful information)\n",
    "high_corr = sorted_pairs[sorted_pairs > 0.5][sorted_pairs < 1]\n",
    "display(high_corr)"
   ]
  },
  {
   "cell_type": "markdown",
   "metadata": {},
   "source": [
    "- The more numPublishedLectures, the more contentInfo_hours which is the same thing and doesn't mean much\n",
    "- High numSubscribers already means high numReviews, also doesn't mean much"
   ]
  },
  {
   "cell_type": "markdown",
   "metadata": {},
   "source": [
    "# 20% of courses account for 80% of subscribers?\n",
    "One column we'd want to look deeper into is the `numSubscribers`, as it is the most important business metric currently on hand with the data that measures the performance of a course."
   ]
  },
  {
   "cell_type": "code",
   "execution_count": 13,
   "metadata": {},
   "outputs": [
    {
     "name": "stdout",
     "output_type": "stream",
     "text": [
      "Descriptive Statistics\n"
     ]
    },
    {
     "data": {
      "text/html": [
       "<div>\n",
       "<style scoped>\n",
       "    .dataframe tbody tr th:only-of-type {\n",
       "        vertical-align: middle;\n",
       "    }\n",
       "\n",
       "    .dataframe tbody tr th {\n",
       "        vertical-align: top;\n",
       "    }\n",
       "\n",
       "    .dataframe thead th {\n",
       "        text-align: right;\n",
       "    }\n",
       "</style>\n",
       "<table border=\"1\" class=\"dataframe\">\n",
       "  <thead>\n",
       "    <tr style=\"text-align: right;\">\n",
       "      <th></th>\n",
       "      <th>id</th>\n",
       "      <th>price</th>\n",
       "      <th>numSubscribers</th>\n",
       "      <th>numReviews</th>\n",
       "      <th>numPublishedLectures</th>\n",
       "      <th>contentInfo_hours</th>\n",
       "      <th>revenue</th>\n",
       "    </tr>\n",
       "  </thead>\n",
       "  <tbody>\n",
       "    <tr>\n",
       "      <th>count</th>\n",
       "      <td>1200.00</td>\n",
       "      <td>1200.00</td>\n",
       "      <td>1200.00</td>\n",
       "      <td>1200.00</td>\n",
       "      <td>1200.00</td>\n",
       "      <td>1200.00</td>\n",
       "      <td>1200.00</td>\n",
       "    </tr>\n",
       "    <tr>\n",
       "      <th>mean</th>\n",
       "      <td>706854.25</td>\n",
       "      <td>77.03</td>\n",
       "      <td>6650.48</td>\n",
       "      <td>358.35</td>\n",
       "      <td>52.82</td>\n",
       "      <td>5.56</td>\n",
       "      <td>525703.15</td>\n",
       "    </tr>\n",
       "    <tr>\n",
       "      <th>std</th>\n",
       "      <td>328924.40</td>\n",
       "      <td>66.08</td>\n",
       "      <td>14613.65</td>\n",
       "      <td>1574.81</td>\n",
       "      <td>62.81</td>\n",
       "      <td>7.28</td>\n",
       "      <td>1579715.82</td>\n",
       "    </tr>\n",
       "    <tr>\n",
       "      <th>min</th>\n",
       "      <td>8324.00</td>\n",
       "      <td>0.00</td>\n",
       "      <td>19.00</td>\n",
       "      <td>0.00</td>\n",
       "      <td>5.00</td>\n",
       "      <td>0.00</td>\n",
       "      <td>0.00</td>\n",
       "    </tr>\n",
       "    <tr>\n",
       "      <th>25%</th>\n",
       "      <td>475711.50</td>\n",
       "      <td>20.00</td>\n",
       "      <td>1127.50</td>\n",
       "      <td>25.00</td>\n",
       "      <td>19.00</td>\n",
       "      <td>1.50</td>\n",
       "      <td>29290.00</td>\n",
       "    </tr>\n",
       "    <tr>\n",
       "      <th>50%</th>\n",
       "      <td>738456.00</td>\n",
       "      <td>50.00</td>\n",
       "      <td>2416.50</td>\n",
       "      <td>65.00</td>\n",
       "      <td>32.00</td>\n",
       "      <td>3.00</td>\n",
       "      <td>96880.00</td>\n",
       "    </tr>\n",
       "    <tr>\n",
       "      <th>75%</th>\n",
       "      <td>975271.50</td>\n",
       "      <td>115.00</td>\n",
       "      <td>6894.75</td>\n",
       "      <td>179.25</td>\n",
       "      <td>63.25</td>\n",
       "      <td>6.50</td>\n",
       "      <td>363065.00</td>\n",
       "    </tr>\n",
       "    <tr>\n",
       "      <th>max</th>\n",
       "      <td>1277924.00</td>\n",
       "      <td>200.00</td>\n",
       "      <td>268923.00</td>\n",
       "      <td>27445.00</td>\n",
       "      <td>779.00</td>\n",
       "      <td>76.50</td>\n",
       "      <td>24316800.00</td>\n",
       "    </tr>\n",
       "  </tbody>\n",
       "</table>\n",
       "</div>"
      ],
      "text/plain": [
       "               id    price  numSubscribers  numReviews  numPublishedLectures  \\\n",
       "count     1200.00  1200.00         1200.00     1200.00               1200.00   \n",
       "mean    706854.25    77.03         6650.48      358.35                 52.82   \n",
       "std     328924.40    66.08        14613.65     1574.81                 62.81   \n",
       "min       8324.00     0.00           19.00        0.00                  5.00   \n",
       "25%     475711.50    20.00         1127.50       25.00                 19.00   \n",
       "50%     738456.00    50.00         2416.50       65.00                 32.00   \n",
       "75%     975271.50   115.00         6894.75      179.25                 63.25   \n",
       "max    1277924.00   200.00       268923.00    27445.00                779.00   \n",
       "\n",
       "       contentInfo_hours      revenue  \n",
       "count            1200.00      1200.00  \n",
       "mean                5.56    525703.15  \n",
       "std                 7.28   1579715.82  \n",
       "min                 0.00         0.00  \n",
       "25%                 1.50     29290.00  \n",
       "50%                 3.00     96880.00  \n",
       "75%                 6.50    363065.00  \n",
       "max                76.50  24316800.00  "
      ]
     },
     "execution_count": 13,
     "metadata": {},
     "output_type": "execute_result"
    }
   ],
   "source": [
    "print(\"Descriptive Statistics\")\n",
    "web_dev.describe().round(2)"
   ]
  },
  {
   "cell_type": "markdown",
   "metadata": {},
   "source": [
    "# We can see that there's something going on in the `numSubscribers` column. \n",
    "We notice that the both the mean and the top 75 percentile of `numSubscribers` is very far away from the max."
   ]
  },
  {
   "cell_type": "code",
   "execution_count": 14,
   "metadata": {},
   "outputs": [
    {
     "data": {
      "text/plain": [
       "count      1200.000000\n",
       "mean       6650.476667\n",
       "std       14613.648207\n",
       "min          19.000000\n",
       "25%        1127.500000\n",
       "50%        2416.500000\n",
       "75%        6894.750000\n",
       "max      268923.000000\n",
       "Name: numSubscribers, dtype: float64"
      ]
     },
     "execution_count": 14,
     "metadata": {},
     "output_type": "execute_result"
    }
   ],
   "source": [
    "web_dev.numSubscribers.describe()"
   ]
  },
  {
   "cell_type": "markdown",
   "metadata": {},
   "source": [
    "# Perhaps there are many outliers? \n",
    "We will proceed with a boxplot to observe any outliers and a histogram to observe its skewness."
   ]
  },
  {
   "cell_type": "code",
   "execution_count": 15,
   "metadata": {},
   "outputs": [
    {
     "data": {
      "text/plain": [
       "Text(0.5, 1.0, 'Frequency of Courses Having a Certain Subscribers Count')"
      ]
     },
     "execution_count": 15,
     "metadata": {},
     "output_type": "execute_result"
    },
    {
     "data": {
      "image/png": "[encoded data removed]",
      "text/plain": [
       "<Figure size 1296x648 with 2 Axes>"
      ]
     },
     "metadata": {},
     "output_type": "display_data"
    }
   ],
   "source": [
    "fig, (ax1,ax2) = plt.subplots(1,2,figsize=(18,9))\n",
    "\n",
    "# numSubscribers is a good business metric to observe performance of courses\n",
    "# we see many outliers and lets find out what's going on\n",
    "ax1.boxplot(web_dev.numSubscribers)\n",
    "ax1.set_title(\"numSubscribers Boxplot\")\n",
    "\n",
    "sns.set_style(\"whitegrid\")\n",
    "df_sorted= web_dev.sort_values('numSubscribers',ascending=False)\n",
    "sns.histplot(df_sorted.numSubscribers, color='salmon')\n",
    "ax2.set_title(\"Frequency of Courses Having a Certain Subscribers Count\")"
   ]
  },
  {
   "cell_type": "markdown",
   "metadata": {},
   "source": [
    "After changing perspectives by using a histogram instead of a boxplot, we can see extreme right skewedness; it levels out past the point where courses have more than 25,000 subscribers. This shows that the ratio between the number of courses having under 25,000 subscribers to the number of courses having over 25,000 subscribers is immensely disproportionate."
   ]
  },
  {
   "cell_type": "markdown",
   "metadata": {},
   "source": [
    "From the graph, we can estimate that the cutoff point for where the majority of courses lie is at 25,000 subscribers\n",
    "\n",
    "Findings from the calculations below:\n",
    "- 96% of all courses had less than 25,000 subscribers and accounted for 62% of all subscribers\n",
    "- 4% of all courses had more than 25,000 subscribers and accounted for 38% of all subscribers\n",
    "- only a small percentage of courses are doing most of the heavy lifting for Udemy while the majority of classes are scraping by\n",
    "\n",
    "Can help to find this:\n",
    "- what percentage of classes having less than 25,000 subscribers are free?\n",
    "- what percentage of classes having more than 25,000 subscribers are free?\n",
    "    - this could explain why so many people would want to choose these classes"
   ]
  },
  {
   "cell_type": "code",
   "execution_count": 16,
   "metadata": {},
   "outputs": [
    {
     "name": "stdout",
     "output_type": "stream",
     "text": [
      "Total Number of Courses\n"
     ]
    },
    {
     "data": {
      "text/plain": [
       "1200"
      ]
     },
     "metadata": {},
     "output_type": "display_data"
    },
    {
     "name": "stdout",
     "output_type": "stream",
     "text": [
      "\n",
      "\n",
      "Count of Courses Having Under 25,000 Subscribers\n"
     ]
    },
    {
     "data": {
      "text/plain": [
       "1147"
      ]
     },
     "metadata": {},
     "output_type": "display_data"
    },
    {
     "name": "stdout",
     "output_type": "stream",
     "text": [
      "\n",
      "\n",
      "Count of Courses Having Over 25,000 Subscribers\n"
     ]
    },
    {
     "data": {
      "text/plain": [
       "53"
      ]
     },
     "metadata": {},
     "output_type": "display_data"
    },
    {
     "name": "stdout",
     "output_type": "stream",
     "text": [
      "\n",
      "\n",
      "Percentage of Number of Courses That Have Under 25,000 Subscribers\n"
     ]
    },
    {
     "data": {
      "text/plain": [
       "95.6"
      ]
     },
     "metadata": {},
     "output_type": "display_data"
    },
    {
     "name": "stdout",
     "output_type": "stream",
     "text": [
      "\n",
      "\n",
      "Percentage of Total Courses That Have Over 25,000 Subscribers\n"
     ]
    },
    {
     "data": {
      "text/plain": [
       "4.4"
      ]
     },
     "metadata": {},
     "output_type": "display_data"
    },
    {
     "name": "stdout",
     "output_type": "stream",
     "text": [
      "\n",
      "\n",
      "Total Sum Number of All Subscribers\n"
     ]
    },
    {
     "data": {
      "text/plain": [
       "7980572"
      ]
     },
     "metadata": {},
     "output_type": "display_data"
    },
    {
     "name": "stdout",
     "output_type": "stream",
     "text": [
      "\n",
      "\n",
      "Sum of numSubscribers for Courses Having Under 25,000 Subscribers\n"
     ]
    },
    {
     "data": {
      "text/plain": [
       "4984164"
      ]
     },
     "metadata": {},
     "output_type": "display_data"
    },
    {
     "name": "stdout",
     "output_type": "stream",
     "text": [
      "\n",
      "\n",
      "Sum of numSubscribers for Courses Having Over 25,000 Subscribers\n"
     ]
    },
    {
     "data": {
      "text/plain": [
       "2996408"
      ]
     },
     "metadata": {},
     "output_type": "display_data"
    },
    {
     "name": "stdout",
     "output_type": "stream",
     "text": [
      "\n",
      "\n",
      "Percentage of Total Students the Top Performing 4% of Classes Holds\n"
     ]
    },
    {
     "data": {
      "text/plain": [
       "37.5"
      ]
     },
     "metadata": {},
     "output_type": "display_data"
    },
    {
     "name": "stdout",
     "output_type": "stream",
     "text": [
      "\n",
      "\n",
      "Percentage of Total Students the Bottom Performing 96% of Classes Holds\n"
     ]
    },
    {
     "data": {
      "text/plain": [
       "62.5"
      ]
     },
     "metadata": {},
     "output_type": "display_data"
    }
   ],
   "source": [
    "# new dataframe for courses having under 25,000 subscribers\n",
    "under25k = web_dev[web_dev.numSubscribers <= 25000]\n",
    "over25k = web_dev[web_dev.numSubscribers > 25000]\n",
    "\n",
    "print(\"Total Number of Courses\")\n",
    "display(web_dev.shape[0])\n",
    "print(\"\\n\")\n",
    "\n",
    "print(\"Count of Courses Having Under 25,000 Subscribers\")\n",
    "display(under25k.shape[0])\n",
    "print(\"\\n\")\n",
    "\n",
    "print(\"Count of Courses Having Over 25,000 Subscribers\")\n",
    "display(over25k.shape[0])\n",
    "print(\"\\n\")\n",
    "\n",
    "print(\"Percentage of Number of Courses That Have Under 25,000 Subscribers\")\n",
    "per_under25k = round((under25k.shape[0] / web_dev.shape[0])*100, 1)\n",
    "display(per_under25k)\n",
    "print(\"\\n\")\n",
    "\n",
    "print(\"Percentage of Total Courses That Have Over 25,000 Subscribers\")\n",
    "per_over25k = round((over25k.shape[0] / web_dev.shape[0])*100, 1)\n",
    "display(per_over25k)\n",
    "print(\"\\n\")\n",
    "\n",
    "print(\"Total Sum Number of All Subscribers\")\n",
    "display(web_dev.numSubscribers.sum())\n",
    "print(\"\\n\")\n",
    "\n",
    "print(\"Sum of numSubscribers for Courses Having Under 25,000 Subscribers\")\n",
    "display(under25k.numSubscribers.sum())\n",
    "print(\"\\n\")\n",
    "\n",
    "print(\"Sum of numSubscribers for Courses Having Over 25,000 Subscribers\")\n",
    "display(over25k.numSubscribers.sum())\n",
    "print(\"\\n\")\n",
    "\n",
    "print(\"Percentage of Total Students the Top Performing 4% of Classes Holds\")\n",
    "top_percentile = ((over25k.numSubscribers.sum() / web_dev.numSubscribers.sum())*100).round(1)\n",
    "display(top_percentile)\n",
    "print(\"\\n\")\n",
    "\n",
    "print(\"Percentage of Total Students the Bottom Performing 96% of Classes Holds\")\n",
    "bottom_percentile = ((under25k.numSubscribers.sum() / web_dev.numSubscribers.sum())*100).round(1)\n",
    "display(bottom_percentile)"
   ]
  },
  {
   "cell_type": "markdown",
   "metadata": {},
   "source": [
    "# Nested Pie Chart"
   ]
  },
  {
   "cell_type": "code",
   "execution_count": 17,
   "metadata": {},
   "outputs": [
    {
     "data": {
      "text/html": [
       "<div>\n",
       "<style scoped>\n",
       "    .dataframe tbody tr th:only-of-type {\n",
       "        vertical-align: middle;\n",
       "    }\n",
       "\n",
       "    .dataframe tbody tr th {\n",
       "        vertical-align: top;\n",
       "    }\n",
       "\n",
       "    .dataframe thead th {\n",
       "        text-align: right;\n",
       "    }\n",
       "</style>\n",
       "<table border=\"1\" class=\"dataframe\">\n",
       "  <thead>\n",
       "    <tr style=\"text-align: right;\">\n",
       "      <th></th>\n",
       "      <th>category</th>\n",
       "      <th>number_of_courses</th>\n",
       "      <th>percentage_of_courses</th>\n",
       "      <th>number_of_subscribers</th>\n",
       "      <th>percentage_of_subscribers</th>\n",
       "    </tr>\n",
       "  </thead>\n",
       "  <tbody>\n",
       "    <tr>\n",
       "      <th>0</th>\n",
       "      <td>Courses Having Under 25K Subs</td>\n",
       "      <td>1147</td>\n",
       "      <td>96</td>\n",
       "      <td>4984164</td>\n",
       "      <td>62</td>\n",
       "    </tr>\n",
       "    <tr>\n",
       "      <th>1</th>\n",
       "      <td>Courses Having Over 25K Subs</td>\n",
       "      <td>53</td>\n",
       "      <td>4</td>\n",
       "      <td>2996408</td>\n",
       "      <td>38</td>\n",
       "    </tr>\n",
       "  </tbody>\n",
       "</table>\n",
       "</div>"
      ],
      "text/plain": [
       "                        category  number_of_courses  percentage_of_courses  \\\n",
       "0  Courses Having Under 25K Subs               1147                     96   \n",
       "1   Courses Having Over 25K Subs                 53                      4   \n",
       "\n",
       "   number_of_subscribers  percentage_of_subscribers  \n",
       "0                4984164                         62  \n",
       "1                2996408                         38  "
      ]
     },
     "metadata": {},
     "output_type": "display_data"
    },
    {
     "data": {
      "image/png": "[encoded data removed]",
      "text/plain": [
       "<Figure size 504x504 with 1 Axes>"
      ]
     },
     "metadata": {},
     "output_type": "display_data"
    }
   ],
   "source": [
    "# remove spacing and capitalizing in column names\n",
    "\n",
    "data = {'category': ['Courses Having Under 25K Subs','Courses Having Over 25K Subs'],\n",
    "        'number_of_courses': [1147,53],\n",
    "        'percentage_of_courses': [96,4],\n",
    "        'number_of_subscribers': [4984164,2996408],\n",
    "        'percentage_of_subscribers': [62,38]}\n",
    "stats = pd.DataFrame(data, columns=['category','number_of_courses','percentage_of_courses','number_of_subscribers','percentage_of_subscribers'])\n",
    "display(stats)\n",
    "\n",
    "plt.figure(figsize=(7,7))\n",
    "\n",
    "plt.pie(stats.percentage_of_courses,\n",
    "        colors=['silver','blueviolet'],startangle=90,\n",
    "        pctdistance=0.75,radius=1,labeldistance=1.05,autopct='%1.0f%% \\nof Courses',\n",
    "        textprops={'fontsize':16,'color':'white','fontweight':'bold'})\n",
    "\n",
    "plt.pie(stats.percentage_of_subscribers,\n",
    "        colors=['silver','blueviolet'],startangle=90,\n",
    "        pctdistance=0.5,radius=0.5,labeldistance=1.05,autopct='%1.0f%% \\nof Subscribers',\n",
    "        textprops={'fontsize':16,'color':'white','fontweight':'bold'})\n",
    "\n",
    "centre_circle = plt.Circle((0,0),0.03,fc='grey')\n",
    "fig=plt.gcf()\n",
    "fig.gca().add_artist(centre_circle)\n",
    "plt.axis('equal')\n",
    "plt.tight_layout()\n",
    "plt.title(\"Imbalanced Ratio of Courses to Subscribers\",fontweight=\"heavy\",fontsize=32,pad=70,loc='left')\n",
    "\n",
    "plt.text(0.6,0.9,\"4% of all courses have over 25,000 subscribers \\nbut makes up for 38% of all subscribers.\",\n",
    "         fontsize=20,color='blueviolet',fontweight=\"heavy\")\n",
    "plt.text(0.6,-1.03,\"96% of all courses have under 25,000 subscribers \\nbut makes up for 62% of all subscribers.\",\n",
    "         fontsize=20,color='darkgrey',fontweight=\"heavy\")\n",
    "\n",
    "import matplotlib.patches as mpatches\n",
    "patch = mpatches.Patch(color='blueviolet',label='Courses Having Over 25,000 Subscribers')\n",
    "patch2 = mpatches.Patch(color='silver',label='Courses Having Under 25,000 Subscribers')\n",
    "plt.legend(handles=[patch,patch2],loc='upper center',bbox_to_anchor=(0.39,1.13),prop={'size': 17},frameon=False)\n",
    "\n",
    "plt.show()"
   ]
  },
  {
   "cell_type": "markdown",
   "metadata": {},
   "source": [
    "# Could Free Courses Play a Role?"
   ]
  },
  {
   "cell_type": "code",
   "execution_count": 18,
   "metadata": {},
   "outputs": [
    {
     "name": "stdout",
     "output_type": "stream",
     "text": [
      "Percent Free Courses Over 25,000 Subscribers\n",
      "36.0\n",
      "\n",
      "\n",
      "Percent Free Courses Under 25,000 Subscribers\n",
      "9.9\n",
      "\n",
      "\n",
      "Number of Free Courses Having Over 25,000 Subscribers (Out of 53 Courses)\n"
     ]
    },
    {
     "data": {
      "text/plain": [
       "True     34\n",
       "False    19\n",
       "Name: isPaid, dtype: int64"
      ]
     },
     "metadata": {},
     "output_type": "display_data"
    },
    {
     "name": "stdout",
     "output_type": "stream",
     "text": [
      "\n",
      "\n",
      "Number of Free Courses Having Over 25,000 Subscribers (Out of 53 Courses)\n"
     ]
    },
    {
     "data": {
      "text/plain": [
       "True     1033\n",
       "False     114\n",
       "Name: isPaid, dtype: int64"
      ]
     },
     "metadata": {},
     "output_type": "display_data"
    }
   ],
   "source": [
    "print(\"Percent Free Courses Over 25,000 Subscribers\")\n",
    "over25000 = web_dev[web_dev.numSubscribers > 25000]\n",
    "freeover25k = over25000[over25000.price == 0]\n",
    "perfreeover25k = freeover25k.shape[0] / over25000.shape[0]\n",
    "perfreeover25k = round(perfreeover25k, 2) * 100\n",
    "print(perfreeover25k)\n",
    "print(\"\\n\")\n",
    "\n",
    "print(\"Percent Free Courses Under 25,000 Subscribers\")\n",
    "freeunder25k = under25k[under25k.price == 0]\n",
    "perfreeunder2k = freeunder25k.shape[0] / under25k.shape[0]\n",
    "perfreeunder2k = round(perfreeunder2k, 3) * 100\n",
    "print(perfreeunder2k)\n",
    "print(\"\\n\")\n",
    "\n",
    "print(\"Number of Free Courses Having Over 25,000 Subscribers (Out of 53 Courses)\")\n",
    "display(web_dev.sort_values(by=\"numSubscribers\",ascending=False).head(53).isPaid.value_counts())\n",
    "print(\"\\n\")\n",
    "\n",
    "print(\"Number of Free Courses Having Over 25,000 Subscribers (Out of 53 Courses)\")\n",
    "display(web_dev.sort_values(by=\"numSubscribers\",ascending=False).tail(1147).isPaid.value_counts())"
   ]
  },
  {
   "cell_type": "code",
   "execution_count": 19,
   "metadata": {},
   "outputs": [
    {
     "data": {
      "text/html": [
       "<div>\n",
       "<style scoped>\n",
       "    .dataframe tbody tr th:only-of-type {\n",
       "        vertical-align: middle;\n",
       "    }\n",
       "\n",
       "    .dataframe tbody tr th {\n",
       "        vertical-align: top;\n",
       "    }\n",
       "\n",
       "    .dataframe thead th {\n",
       "        text-align: right;\n",
       "    }\n",
       "</style>\n",
       "<table border=\"1\" class=\"dataframe\">\n",
       "  <thead>\n",
       "    <tr style=\"text-align: right;\">\n",
       "      <th></th>\n",
       "      <th>course_category</th>\n",
       "      <th>number_free_courses</th>\n",
       "      <th>total</th>\n",
       "      <th>percentages</th>\n",
       "    </tr>\n",
       "  </thead>\n",
       "  <tbody>\n",
       "    <tr>\n",
       "      <th>0</th>\n",
       "      <td>Courses Having Over 25,000 Subscribers</td>\n",
       "      <td>19</td>\n",
       "      <td>53</td>\n",
       "      <td>36.0</td>\n",
       "    </tr>\n",
       "    <tr>\n",
       "      <th>1</th>\n",
       "      <td>Courses Having Under 25,000 Subscribers</td>\n",
       "      <td>114</td>\n",
       "      <td>1147</td>\n",
       "      <td>9.9</td>\n",
       "    </tr>\n",
       "  </tbody>\n",
       "</table>\n",
       "</div>"
      ],
      "text/plain": [
       "                           course_category  number_free_courses  total  \\\n",
       "0   Courses Having Over 25,000 Subscribers                   19     53   \n",
       "1  Courses Having Under 25,000 Subscribers                  114   1147   \n",
       "\n",
       "   percentages  \n",
       "0         36.0  \n",
       "1          9.9  "
      ]
     },
     "metadata": {},
     "output_type": "display_data"
    },
    {
     "data": {
      "text/html": [
       "<div>\n",
       "<style scoped>\n",
       "    .dataframe tbody tr th:only-of-type {\n",
       "        vertical-align: middle;\n",
       "    }\n",
       "\n",
       "    .dataframe tbody tr th {\n",
       "        vertical-align: top;\n",
       "    }\n",
       "\n",
       "    .dataframe thead th {\n",
       "        text-align: right;\n",
       "    }\n",
       "</style>\n",
       "<table border=\"1\" class=\"dataframe\">\n",
       "  <thead>\n",
       "    <tr style=\"text-align: right;\">\n",
       "      <th></th>\n",
       "      <th>course_category</th>\n",
       "      <th>number_free_courses</th>\n",
       "      <th>total</th>\n",
       "      <th>percentages</th>\n",
       "    </tr>\n",
       "  </thead>\n",
       "  <tbody>\n",
       "    <tr>\n",
       "      <th>0</th>\n",
       "      <td>Totals</td>\n",
       "      <td>53</td>\n",
       "      <td>53</td>\n",
       "      <td>64</td>\n",
       "    </tr>\n",
       "    <tr>\n",
       "      <th>1</th>\n",
       "      <td>Courses Having Over 25,000 Subscribers</td>\n",
       "      <td>19</td>\n",
       "      <td>53</td>\n",
       "      <td>36</td>\n",
       "    </tr>\n",
       "  </tbody>\n",
       "</table>\n",
       "</div>"
      ],
      "text/plain": [
       "                          course_category  number_free_courses  total  \\\n",
       "0                                  Totals                   53     53   \n",
       "1  Courses Having Over 25,000 Subscribers                   19     53   \n",
       "\n",
       "   percentages  \n",
       "0           64  \n",
       "1           36  "
      ]
     },
     "metadata": {},
     "output_type": "display_data"
    },
    {
     "data": {
      "text/html": [
       "<div>\n",
       "<style scoped>\n",
       "    .dataframe tbody tr th:only-of-type {\n",
       "        vertical-align: middle;\n",
       "    }\n",
       "\n",
       "    .dataframe tbody tr th {\n",
       "        vertical-align: top;\n",
       "    }\n",
       "\n",
       "    .dataframe thead th {\n",
       "        text-align: right;\n",
       "    }\n",
       "</style>\n",
       "<table border=\"1\" class=\"dataframe\">\n",
       "  <thead>\n",
       "    <tr style=\"text-align: right;\">\n",
       "      <th></th>\n",
       "      <th>course_category</th>\n",
       "      <th>number_free_courses</th>\n",
       "      <th>total</th>\n",
       "      <th>percentages</th>\n",
       "    </tr>\n",
       "  </thead>\n",
       "  <tbody>\n",
       "    <tr>\n",
       "      <th>0</th>\n",
       "      <td>Totals</td>\n",
       "      <td>1147</td>\n",
       "      <td>1147</td>\n",
       "      <td>90.1</td>\n",
       "    </tr>\n",
       "    <tr>\n",
       "      <th>1</th>\n",
       "      <td>Courses Having Under 25,000 Subscribers</td>\n",
       "      <td>114</td>\n",
       "      <td>1147</td>\n",
       "      <td>9.9</td>\n",
       "    </tr>\n",
       "  </tbody>\n",
       "</table>\n",
       "</div>"
      ],
      "text/plain": [
       "                           course_category  number_free_courses  total  \\\n",
       "0                                   Totals                 1147   1147   \n",
       "1  Courses Having Under 25,000 Subscribers                  114   1147   \n",
       "\n",
       "   percentages  \n",
       "0         90.1  \n",
       "1          9.9  "
      ]
     },
     "metadata": {},
     "output_type": "display_data"
    }
   ],
   "source": [
    "total = [53,1147]\n",
    "percentages = [36,9.9]\n",
    "number_free_courses = [19,114]\n",
    "course_category = [\"Courses Having Over 25,000 Subscribers\",\"Courses Having Under 25,000 Subscribers\"]\n",
    "df_free = pd.DataFrame({\"course_category\":course_category,\"number_free_courses\":number_free_courses,\"total\":total,\"percentages\":percentages})\n",
    "display(df_free)\n",
    "\n",
    "# dataframe specifically made for the pie chart below\n",
    "total = [53,53]\n",
    "percentages = [64,36]\n",
    "number_free_courses = [53,19]\n",
    "course_category = [\"Totals\",\"Courses Having Over 25,000 Subscribers\"]\n",
    "df_free_over = pd.DataFrame({\"course_category\":course_category,\"number_free_courses\":number_free_courses,\"total\":total,\"percentages\":percentages})\n",
    "display(df_free_over)\n",
    "\n",
    "# dataframe specifically made for the pie chart below\n",
    "total = [1147,1147]\n",
    "percentages = [90.1,9.9]\n",
    "number_free_courses = [1147,114]\n",
    "course_category = [\"Totals\",\"Courses Having Under 25,000 Subscribers\"]\n",
    "df_free_under = pd.DataFrame({\"course_category\":course_category,\"number_free_courses\":number_free_courses,\"total\":total,\"percentages\":percentages})\n",
    "display(df_free_under)"
   ]
  },
  {
   "cell_type": "code",
   "execution_count": 20,
   "metadata": {},
   "outputs": [
    {
     "data": {
      "image/png": "[encoded data removed]",
      "text/plain": [
       "<Figure size 504x504 with 1 Axes>"
      ]
     },
     "metadata": {},
     "output_type": "display_data"
    }
   ],
   "source": [
    "# second pie chart\n",
    "plt.figure(figsize=(7,7))\n",
    "\n",
    "plt.pie(df_free_over.percentages,\n",
    "        colors=['silver','salmon'],startangle=90,\n",
    "        pctdistance=0.75,radius=1,labeldistance=1.05,autopct='%1.01f%% \\n(Over 25,000 \\nSubscribers)',\n",
    "        textprops={'fontsize':16,'color':'white','fontweight':'bold'})\n",
    "\n",
    "plt.pie(df_free_under.percentages,\n",
    "        colors=['silver','salmon'],startangle=90,\n",
    "        pctdistance=0.5,radius=0.5,labeldistance=1.05,autopct='%1.01f%% \\n(Under 25,000 \\nSubscribers)',\n",
    "        textprops={'fontsize':16,'color':'white','fontweight':'bold'})\n",
    "\n",
    "centre_circle = plt.Circle((0,0),0.03,fc='grey')\n",
    "fig=plt.gcf()\n",
    "fig.gca().add_artist(centre_circle)\n",
    "plt.axis('equal')\n",
    "plt.tight_layout()\n",
    "plt.title(\"Proportion of Free Courses\",fontweight=\"heavy\",fontsize=32,pad=70,loc='left')\n",
    "\n",
    "plt.text(1.1,0.2,\"36%\",\n",
    "         fontsize=85,color='salmon',fontweight=\"heavy\")\n",
    "plt.text(1.11,-0.32,\"of courses having over \\n25,000 subscribers are free \\ncompared to 9.9% of courses \\nhaving under 25,000 subscribers \\nthat are free.\",\n",
    "         fontsize=20,color='salmon',fontweight=\"heavy\")\n",
    "\n",
    "patch = mpatches.Patch(color='salmon',label='Free Courses')\n",
    "patch2 = mpatches.Patch(color='silver',label='Paid Courses')\n",
    "plt.legend(handles=[patch,patch2],loc='upper center',bbox_to_anchor=(0.16,1.13),prop={'size': 17},frameon=False)\n",
    "\n",
    "plt.show()"
   ]
  },
  {
   "cell_type": "markdown",
   "metadata": {},
   "source": [
    "# Summary of What the Viz is Supposed to Say\n",
    "\n",
    "Make a storyboard with the data I got.\n",
    "\n",
    "1. Is there some kind of conflict or stakes that can be brought up with the data? What's in it for the reader to get invested in this project?"
   ]
  }
 ],
 "metadata": {
  "kernelspec": {
   "display_name": "Python 3",
   "language": "python",
   "name": "python3"
  },
  "language_info": {
   "codemirror_mode": {
    "name": "ipython",
    "version": 3
   },
   "file_extension": ".py",
   "mimetype": "text/x-python",
   "name": "python",
   "nbconvert_exporter": "python",
   "pygments_lexer": "ipython3",
   "version": "3.8.5"
  }
 },
 "nbformat": 4,
 "nbformat_minor": 4
}
